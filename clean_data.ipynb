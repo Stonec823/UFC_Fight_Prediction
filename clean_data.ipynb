{
 "cells": [
  {
   "cell_type": "code",
   "execution_count": 1,
   "metadata": {},
   "outputs": [],
   "source": [
    "from src.data_cleaning.data_cleaning import (\n",
    "    clean_fighter_tott,\n",
    "    clean_event_details,\n",
    "    clean_fighter_details,\n",
    "    clean_fight_stats,\n",
    "    clean_fight_results\n",
    ")\n",
    "from pathlib import Path\n",
    "import pandas as pd"
   ]
  },
  {
   "cell_type": "markdown",
   "metadata": {},
   "source": [
    "## Read data\n",
    "\n",
    "All raw data except `ufc_fight_details.csv` that doesn't add anything."
   ]
  },
  {
   "cell_type": "code",
   "execution_count": 58,
   "metadata": {},
   "outputs": [],
   "source": [
    "raw_data_path = Path('./data/raw')\n",
    "\n",
    "df_fighter_detail = pd.read_csv(Path(raw_data_path, 'ufc_fighter_details.csv'))\n",
    "df_event_details = pd.read_csv(Path(raw_data_path, 'ufc_event_details.csv'))\n",
    "df_fighter_tott = pd.read_csv(Path(raw_data_path, 'ufc_fighter_tott.csv'))\n",
    "df_fight_stats = pd.read_csv(Path(raw_data_path, 'ufc_fight_stats.csv'))\n",
    "df_fight_results = pd.read_csv(Path(raw_data_path, 'ufc_fight_results.csv'))"
   ]
  },
  {
   "cell_type": "markdown",
   "metadata": {},
   "source": [
    "## Clean Data\n",
    "\n",
    "* Cleans fighter stats by adjusting column names, converting string-based measurements to numerical, formatting dates, extracting IDs, and removing unneeded columns.\n",
    "* Processes event details to extract IDs, convert dates, and split location data.\n",
    "* Standardizes fighter details by cleaning column names and extracting IDs.\n",
    "* Refines fight stats by organizing columns, splitting key data for clarity, and dropping irrelevant percentage columns.\n",
    "* Enhances fight results by extracting IDs, clarifying outcomes, detailing bouts, converting time formats, and eliminating superfluous columns."
   ]
  },
  {
   "cell_type": "code",
   "execution_count": 3,
   "metadata": {},
   "outputs": [],
   "source": [
    "df_fighter_detail_clean = clean_fighter_details(df_fighter_detail)\n",
    "df_event_details_clean = clean_event_details(df_event_details)\n",
    "df_fighter_tott_clean = clean_fighter_tott(df_fighter_tott)\n",
    "df_fight_stats_clean = clean_fight_stats(df_fight_stats)\n",
    "df_fight_results_clean = clean_fight_results(df_fight_results)"
   ]
  },
  {
   "cell_type": "markdown",
   "metadata": {},
   "source": [
    "## Save \n",
    "Save clean data as csv into separate folder"
   ]
  },
  {
   "cell_type": "code",
   "execution_count": 6,
   "metadata": {},
   "outputs": [],
   "source": [
    "clean_data_path = Path('./data/clean')\n",
    "\n",
    "df_fighter_detail_clean.to_csv(Path(clean_data_path,'ufc_fighter_details_clean.csv'), index=False)\n",
    "df_event_details_clean.to_csv(Path(clean_data_path,'ufc_event_details_clean.csv'), index=False)\n",
    "df_fighter_tott_clean.to_csv(Path(clean_data_path,'ufc_fighter_tott_clean.csv'), index=False)\n",
    "df_fight_stats_clean.to_csv(Path(clean_data_path,'ufc_fight_stats_clean.csv'), index=False)\n",
    "df_fight_results_clean.to_csv(Path(clean_data_path,'ufc_fight_results_clean.csv'), index=False)"
   ]
  },
  {
   "cell_type": "markdown",
   "metadata": {},
   "source": [
    "## Data dictionary\n",
    "\n",
    "### ufc_fighter_details_clean\n",
    "* first: First name of the fighter.\n",
    "* last: Last name of the fighter.\n",
    "* nickname: Fighter's nickname.\n",
    "* fighter_id: Unique identifier for the fighter.\n",
    "\n",
    "### ufc_event_details_clean\n",
    "* event: Name of the UFC event.\n",
    "* date: Date when the event took place.\n",
    "* location: Location where the event was held.\n",
    "* event_id: Unique identifier for the event.\n",
    "* city: City where the event took place.\n",
    "* state: State where the event took place (if applicable).\n",
    "* country: Country where the event took place.\n",
    "\n",
    "### ufc_fighter_tott_clean\n",
    "* fighter: Name of the fighter.\n",
    "* height: Height of the fighter.\n",
    "* reach: Reach of the fighter.\n",
    "* stance: Fighting stance of the fighter.\n",
    "* dob: Date of birth of the fighter.\n",
    "* fighter_id: Unique identifier for the fighter.\n",
    "\n",
    "### ufc_fight_stats_clean\n",
    "* event: Name of the UFC event.\n",
    "* bout: Details about the fight bout.\n",
    "* round: The round number.\n",
    "* fighter: Name of the fighter.\n",
    "* kd: Number of knockdowns.\n",
    "* subatt: Number of submission attempts.\n",
    "* rev: Number of reversals.\n",
    "* ctrl: Control time in the fight.\n",
    "* sigstr_throw: Significant strikes thrown.\n",
    "* sigstr_land: Significant strikes landed.\n",
    "* total_str_throw: Total strikes thrown.\n",
    "* total_str_land: Total strikes landed.\n",
    "* td_throw: Takedowns attempted.\n",
    "* td_land: Takedowns succeeded.\n",
    "* head_throw: Head strikes thrown.\n",
    "* head_land: Head strikes landed.\n",
    "* body_throw: Body strikes thrown.\n",
    "* body_land: Body strikes landed.\n",
    "* leg_throw: Leg strikes thrown.\n",
    "* leg_land: Leg strikes landed.\n",
    "* distance_throw: Strikes thrown at a distance.\n",
    "* distance_land: Strikes landed at a distance.\n",
    "* clinch_throw: Strikes thrown in a clinch.\n",
    "* clinch_land: Strikes landed in a clinch.\n",
    "* ground_throw: Ground strikes thrown.\n",
    "* ground_land: Ground strikes landed.\n",
    "\n",
    "### ufc_fight_results_clean\n",
    "* event: Name of the UFC event.\n",
    "* outcome: Outcome of the fight.\n",
    "* weightclass: Weight class of the fight.\n",
    "* method: Method of victory.\n",
    "* round: Final round of the fight.\n",
    "* time: Time the fight ended in the final round.\n",
    "* fight_id: Unique identifier for the fight.\n",
    "* fighter1: Name of fighter 1.\n",
    "* fighter2: Name of fighter 2."
   ]
  },
  {
   "cell_type": "markdown",
   "metadata": {},
   "source": []
  }
 ],
 "metadata": {
  "kernelspec": {
   "display_name": "luc",
   "language": "python",
   "name": "python3"
  },
  "language_info": {
   "codemirror_mode": {
    "name": "ipython",
    "version": 3
   },
   "file_extension": ".py",
   "mimetype": "text/x-python",
   "name": "python",
   "nbconvert_exporter": "python",
   "pygments_lexer": "ipython3",
   "version": "3.9.12"
  }
 },
 "nbformat": 4,
 "nbformat_minor": 2
}
