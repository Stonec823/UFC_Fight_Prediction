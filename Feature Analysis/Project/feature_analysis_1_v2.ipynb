{
 "cells": [
  {
   "cell_type": "markdown",
   "metadata": {},
   "source": [
    "This notebook will create a preliminary dataset with features like records, fight details and fighter details. Then run a lasso reggression to determine the significant variables."
   ]
  },
  {
   "cell_type": "code",
   "execution_count": 49,
   "metadata": {
    "scrolled": true
   },
   "outputs": [
    {
     "data": {
      "text/plain": [
       "Index(['event', 'outcome', 'weightclass', 'method', 'round', 'time',\n",
       "       'fight_id', 'fighter1', 'fighter2', 'date'],\n",
       "      dtype='object')"
      ]
     },
     "execution_count": 49,
     "metadata": {},
     "output_type": "execute_result"
    }
   ],
   "source": [
    "import pandas as pd\n",
    "df = pd.read_csv('./raw/ufc_fight_results_date.txt')\n",
    "df.columns"
   ]
  },
  {
   "cell_type": "code",
   "execution_count": 50,
   "metadata": {
    "colab": {
     "base_uri": "https://localhost:8080/",
     "height": 206
    },
    "id": "FpzUnXCAIQA5",
    "outputId": "5984bb88-3631-4f69-e72c-1b596bd7f5b6"
   },
   "outputs": [
    {
     "data": {
      "text/html": [
       "<div>\n",
       "<style scoped>\n",
       "    .dataframe tbody tr th:only-of-type {\n",
       "        vertical-align: middle;\n",
       "    }\n",
       "\n",
       "    .dataframe tbody tr th {\n",
       "        vertical-align: top;\n",
       "    }\n",
       "\n",
       "    .dataframe thead th {\n",
       "        text-align: right;\n",
       "    }\n",
       "</style>\n",
       "<table border=\"1\" class=\"dataframe\">\n",
       "  <thead>\n",
       "    <tr style=\"text-align: right;\">\n",
       "      <th></th>\n",
       "      <th>event</th>\n",
       "      <th>outcome</th>\n",
       "      <th>weightclass</th>\n",
       "      <th>method</th>\n",
       "      <th>round</th>\n",
       "      <th>time</th>\n",
       "      <th>fight_id</th>\n",
       "      <th>fighter1</th>\n",
       "      <th>fighter2</th>\n",
       "      <th>date</th>\n",
       "    </tr>\n",
       "  </thead>\n",
       "  <tbody>\n",
       "    <tr>\n",
       "      <th>0</th>\n",
       "      <td>UFC Fight Night: Dolidze vs. Imavov</td>\n",
       "      <td>0.0</td>\n",
       "      <td>mw</td>\n",
       "      <td>dec_maj</td>\n",
       "      <td>5</td>\n",
       "      <td>300</td>\n",
       "      <td>767ceb4a0cb43ade</td>\n",
       "      <td>Roman Dolidze</td>\n",
       "      <td>Nassourdine Imavov</td>\n",
       "      <td>2024-02-03</td>\n",
       "    </tr>\n",
       "    <tr>\n",
       "      <th>1</th>\n",
       "      <td>UFC Fight Night: Dolidze vs. Imavov</td>\n",
       "      <td>1.0</td>\n",
       "      <td>lw</td>\n",
       "      <td>dec_una</td>\n",
       "      <td>3</td>\n",
       "      <td>300</td>\n",
       "      <td>733e675fd7c0052a</td>\n",
       "      <td>Renato Moicano</td>\n",
       "      <td>Drew Dober</td>\n",
       "      <td>2024-02-03</td>\n",
       "    </tr>\n",
       "    <tr>\n",
       "      <th>2</th>\n",
       "      <td>UFC Fight Night: Dolidze vs. Imavov</td>\n",
       "      <td>1.0</td>\n",
       "      <td>ww</td>\n",
       "      <td>ko_tko</td>\n",
       "      <td>1</td>\n",
       "      <td>197</td>\n",
       "      <td>af6d56860ba4d259</td>\n",
       "      <td>Randy Brown</td>\n",
       "      <td>Muslim Salikhov</td>\n",
       "      <td>2024-02-03</td>\n",
       "    </tr>\n",
       "    <tr>\n",
       "      <th>3</th>\n",
       "      <td>UFC Fight Night: Dolidze vs. Imavov</td>\n",
       "      <td>0.0</td>\n",
       "      <td>wflw</td>\n",
       "      <td>dec_una</td>\n",
       "      <td>3</td>\n",
       "      <td>300</td>\n",
       "      <td>7b1882dc76786d77</td>\n",
       "      <td>Viviane Araujo</td>\n",
       "      <td>Natalia Silva</td>\n",
       "      <td>2024-02-03</td>\n",
       "    </tr>\n",
       "    <tr>\n",
       "      <th>4</th>\n",
       "      <td>UFC Fight Night: Dolidze vs. Imavov</td>\n",
       "      <td>0.0</td>\n",
       "      <td>ww</td>\n",
       "      <td>ko_tko</td>\n",
       "      <td>1</td>\n",
       "      <td>287</td>\n",
       "      <td>330d86bfaa4155fe</td>\n",
       "      <td>Gilbert Urbina</td>\n",
       "      <td>Charles Radtke</td>\n",
       "      <td>2024-02-03</td>\n",
       "    </tr>\n",
       "  </tbody>\n",
       "</table>\n",
       "</div>"
      ],
      "text/plain": [
       "                                 event  outcome weightclass   method  round  \\\n",
       "0  UFC Fight Night: Dolidze vs. Imavov      0.0          mw  dec_maj      5   \n",
       "1  UFC Fight Night: Dolidze vs. Imavov      1.0          lw  dec_una      3   \n",
       "2  UFC Fight Night: Dolidze vs. Imavov      1.0          ww   ko_tko      1   \n",
       "3  UFC Fight Night: Dolidze vs. Imavov      0.0        wflw  dec_una      3   \n",
       "4  UFC Fight Night: Dolidze vs. Imavov      0.0          ww   ko_tko      1   \n",
       "\n",
       "   time          fight_id         fighter1            fighter2        date  \n",
       "0   300  767ceb4a0cb43ade   Roman Dolidze   Nassourdine Imavov  2024-02-03  \n",
       "1   300  733e675fd7c0052a  Renato Moicano           Drew Dober  2024-02-03  \n",
       "2   197  af6d56860ba4d259     Randy Brown      Muslim Salikhov  2024-02-03  \n",
       "3   300  7b1882dc76786d77  Viviane Araujo        Natalia Silva  2024-02-03  \n",
       "4   287  330d86bfaa4155fe  Gilbert Urbina       Charles Radtke  2024-02-03  "
      ]
     },
     "execution_count": 50,
     "metadata": {},
     "output_type": "execute_result"
    }
   ],
   "source": [
    "df.head()"
   ]
  },
  {
   "cell_type": "code",
   "execution_count": 51,
   "metadata": {
    "colab": {
     "base_uri": "https://localhost:8080/",
     "height": 908
    },
    "id": "pKAQvhYbHeJ9",
    "outputId": "56432728-36e7-4fc2-e911-c8e11d106eb1"
   },
   "outputs": [],
   "source": [
    "\n",
    "import numpy as np\n",
    "import seaborn as sns\n",
    "import matplotlib.pyplot as plt\n",
    "from sklearn.model_selection import train_test_split\n",
    "from sklearn.linear_model import LinearRegression\n",
    "from sklearn.linear_model import Ridge, RidgeCV, Lasso\n",
    "from sklearn.preprocessing import StandardScaler\n"
   ]
  },
  {
   "cell_type": "code",
   "execution_count": 52,
   "metadata": {
    "colab": {
     "base_uri": "https://localhost:8080/",
     "height": 424
    },
    "id": "bbnd33HoJrsU",
    "outputId": "d894c543-85aa-4d22-c6ce-54b80ee8200d"
   },
   "outputs": [],
   "source": [
    "#creating record for fighter 1\n",
    "\n",
    "record = df.groupby(['fighter1', 'outcome'])['event'].count().reset_index()\n",
    "record['outcome'] = np.where(\n",
    "     record['outcome']== 0.0,\n",
    "    'Win',\n",
    "     np.where(\n",
    "        record['outcome'] == 1.0, 'Loss', 'Tie'\n",
    "     )\n",
    ")\n",
    "record_pivot = pd.pivot_table(data=record, values='event', index= 'fighter1',columns = 'outcome', aggfunc= 'sum')\n",
    "record_pivot = record_pivot.fillna(0)\n",
    "\n",
    "fighter_records = record_pivot.reset_index()\n",
    "#fighter_records\n",
    "\n",
    "\n",
    "#creating record for fighter 2\n",
    "record2 = df.groupby(['fighter2', 'outcome'])['event'].count().reset_index()\n",
    "#record2.head()\n",
    "record2['outcome'] = np.where(\n",
    "     record2['outcome']== 0.0,\n",
    "    'Lose',\n",
    "     np.where(\n",
    "        record2['outcome'] == 1.0, 'Win', 'Tie'\n",
    "     )\n",
    ")\n",
    "record_pivot2 = pd.pivot_table(data=record2, values='event', index= 'fighter2',columns = 'outcome', aggfunc= 'sum')\n",
    "record_pivot2 = record_pivot2.fillna(0)\n",
    "\n",
    "fighter_records2 = record_pivot2.reset_index()\n",
    "#fighter_records2"
   ]
  },
  {
   "cell_type": "code",
   "execution_count": 53,
   "metadata": {
    "colab": {
     "base_uri": "https://localhost:8080/",
     "height": 293
    },
    "id": "mlSVpMDwi76s",
    "outputId": "ccc2a64b-c8a5-4466-a8f1-8b4263597989"
   },
   "outputs": [],
   "source": [
    "#the record tables were exported to excel for easier manipulation, then saved as a new csv \"fighter records\"\n",
    "\n",
    "#merging the records to the fight_results df\n",
    "\n",
    "ufc_records = pd.read_csv('C:/Users/ddron/Documents/Divya GA Tech Course Files/Gatech Course Material Back up/MGT 6203/Project/code/Team-45/Feature Analysis/Project/raw/fighter_records.csv')\n",
    "new = df.merge(ufc_records, left_on= 'fighter1', right_on = 'fighter', how='left')\n",
    "new = new.merge(ufc_records, left_on= 'fighter2', right_on = 'fighter', how='left')\n",
    "new= new.rename(columns={'W_x': 'W_f1', 'L_x': 'L_f1', 'W_y': 'W_f2', 'L_y': 'L_f2','fights_x': 'fights_f1', 'fights_y': 'fights_f2' })\n",
    "new = new.drop(['fighter_x', 'fighter_y'], axis=1)\n",
    "\n",
    "new[\"win_proportion_f1\"] = new['W_f1'] / new['fights_f1']\n",
    "new[\"win_proportion_f1\"] = new['win_proportion_f1'].replace([float('inf'), float('-inf')], 0)\n",
    "\n",
    "new[\"win_proportion_f2\"] = new['W_f2'] / new['fights_f2']\n",
    "new[\"win_proportion_f2\"] = new['win_proportion_f2'].replace([float('inf'), float('-inf')], 0)\n",
    "\n",
    "new.drop(columns=[\"W_f1\",\"W_f2\",\"L_f1\",\"L_f2\"],inplace=True)"
   ]
  },
  {
   "cell_type": "code",
   "execution_count": 54,
   "metadata": {
    "colab": {
     "base_uri": "https://localhost:8080/",
     "height": 597
    },
    "id": "1nY43t4TuCdQ",
    "outputId": "e9a79959-0edd-44a0-d84a-be234f4e5aca"
   },
   "outputs": [],
   "source": [
    "#mapping the weight class to numeric\n",
    "# wclasses = new['weightclass'].unique()\n",
    "# wclass_dummies = {}\n",
    "# a=0\n",
    "\n",
    "# for i in wclasses:\n",
    "#   wclass_dummies[i] = a\n",
    "#   a+=1\n",
    "\n",
    "# wclass_dummies\n",
    "\n",
    "\n",
    "# #stripping the name columns\n",
    "# new2 = new.replace(wclass_dummies.keys(),wclass_dummies.values())\n",
    "df_obj = new.select_dtypes('object')\n",
    "new[df_obj.columns] = df_obj.apply(lambda x: x.str.strip())\n",
    "\n",
    "#new2\n"
   ]
  },
  {
   "cell_type": "code",
   "execution_count": 55,
   "metadata": {
    "colab": {
     "base_uri": "https://localhost:8080/",
     "height": 947
    },
    "id": "fJYv4zqKK-EI",
    "outputId": "ab0e9012-860a-4041-bc91-5722b501ceb7"
   },
   "outputs": [],
   "source": [
    "#adding fighter attributes and merging into main dataframe\n",
    "\n",
    "fighter_attributes = pd.read_csv('./raw/ufc_fighter_tott_clean.txt')\n",
    "new3 = pd.merge(new, fighter_attributes, left_on='fighter1', right_on='fighter', how='left')\n",
    "new3 = pd.merge(new3, fighter_attributes, left_on='fighter2', right_on='fighter', how='inner')\n",
    "#new3.head()\n"
   ]
  },
  {
   "cell_type": "code",
   "execution_count": 56,
   "metadata": {},
   "outputs": [],
   "source": [
    "#exporting this to be used in the cleaned_features notebook\n",
    "\n",
    "new3.to_csv('C:/Users/ddron/Documents/Divya GA Tech Course Files/Gatech Course Material Back up/MGT 6203/Project/code/Team-45/Feature Analysis/Project/raw/clean_df_temporary.csv', index=False)"
   ]
  },
  {
   "cell_type": "code",
   "execution_count": 57,
   "metadata": {
    "colab": {
     "base_uri": "https://localhost:8080/"
    },
    "id": "D1Zv1t6-Lspr",
    "outputId": "80907e3f-7c03-4cfa-bd9c-9f93cc3bd8e1"
   },
   "outputs": [],
   "source": [
    "#Creating a age column at the time of the fight\n",
    "\n",
    "new3['age_x'] = pd.to_datetime(new3['date']) - pd.to_datetime(new3['dob_x'])\n",
    "new3['age_y'] = pd.to_datetime(new3['date']) - pd.to_datetime(new3['dob_y'])\n",
    "#new3"
   ]
  },
  {
   "cell_type": "code",
   "execution_count": 58,
   "metadata": {},
   "outputs": [
    {
     "data": {
      "text/plain": [
       "event                   0\n",
       "outcome                 0\n",
       "weightclass             0\n",
       "method                  0\n",
       "round                   0\n",
       "time                    0\n",
       "fight_id                0\n",
       "fighter1                0\n",
       "fighter2                0\n",
       "date                    0\n",
       "fights_f1              44\n",
       "fights_f2              42\n",
       "win_proportion_f1      44\n",
       "win_proportion_f2      42\n",
       "fighter_x              15\n",
       "height_x               87\n",
       "reach_x               260\n",
       "stance_x              148\n",
       "dob_x                5245\n",
       "fighter_id_x           15\n",
       "fighter_y               0\n",
       "height_y               88\n",
       "reach_y               478\n",
       "stance_y              199\n",
       "dob_y                5235\n",
       "fighter_id_y            0\n",
       "age_x                5245\n",
       "age_y                5235\n",
       "dtype: int64"
      ]
     },
     "execution_count": 58,
     "metadata": {},
     "output_type": "execute_result"
    }
   ],
   "source": [
    "#Looks like the date of births in the ufc_fighter_tott_clean data is mostly blanks. I'll remove the age columns for now for the purposes of \n",
    "# feature analysis, but would be interested to add the back in later\n",
    "\n",
    "\n",
    "new3.isna().sum()"
   ]
  },
  {
   "cell_type": "code",
   "execution_count": 59,
   "metadata": {},
   "outputs": [
    {
     "data": {
      "text/plain": [
       "(4977, 14)"
      ]
     },
     "execution_count": 59,
     "metadata": {},
     "output_type": "execute_result"
    }
   ],
   "source": [
    "#dropping features that won't be important to the model, and dropping null values\n",
    "\n",
    "cleaned_features1 = new3.drop(columns= (['age_x', 'age_y', 'dob_x', 'dob_y', 'date', 'event', 'fight_id', 'fighter1', 'fighter2', 'method', 'fighter_id_x', 'fighter_id_y', 'fighter_x', 'fighter_y']))\n",
    "cleaned_features1.dropna(inplace=True)\n",
    "cleaned_features1.shape"
   ]
  },
  {
   "cell_type": "code",
   "execution_count": 60,
   "metadata": {},
   "outputs": [
    {
     "data": {
      "text/plain": [
       "Index(['outcome', 'weightclass', 'round', 'time', 'fights_f1', 'fights_f2',\n",
       "       'win_proportion_f1', 'win_proportion_f2', 'height_x', 'reach_x',\n",
       "       'stance_x', 'height_y', 'reach_y', 'stance_y'],\n",
       "      dtype='object')"
      ]
     },
     "execution_count": 60,
     "metadata": {},
     "output_type": "execute_result"
    }
   ],
   "source": [
    "cleaned_features1.columns"
   ]
  },
  {
   "cell_type": "code",
   "execution_count": 61,
   "metadata": {},
   "outputs": [],
   "source": [
    "#creating dummy variables for all categorical caolumns\n",
    "\n",
    "cleaned_features1['round'] = cleaned_features1['round'].astype('category')\n",
    "pd.set_option('display.max_columns', None)\n",
    "cleaned_features1 = pd.get_dummies(cleaned_features1, drop_first = True, dtype = int)"
   ]
  },
  {
   "cell_type": "code",
   "execution_count": 62,
   "metadata": {},
   "outputs": [],
   "source": [
    "#exporting this dataset \n",
    "\n",
    "cleaned_features1.to_csv('./clean/cleaned_features.csv')"
   ]
  },
  {
   "cell_type": "code",
   "execution_count": 63,
   "metadata": {
    "scrolled": true
   },
   "outputs": [
    {
     "data": {
      "text/plain": [
       "Index(['outcome', 'time', 'fights_f1', 'fights_f2', 'win_proportion_f1',\n",
       "       'win_proportion_f2', 'height_x', 'reach_x', 'height_y', 'reach_y',\n",
       "       'weightclass_flw', 'weightclass_ftw', 'weightclass_hw',\n",
       "       'weightclass_lhw', 'weightclass_lw', 'weightclass_mw',\n",
       "       'weightclass_wbw', 'weightclass_wflw', 'weightclass_wsw',\n",
       "       'weightclass_ww', 'round_2', 'round_3', 'round_4', 'round_5',\n",
       "       'stance_x_Orthodox', 'stance_x_Southpaw', 'stance_x_Switch',\n",
       "       'stance_y_Orthodox', 'stance_y_Southpaw', 'stance_y_Switch'],\n",
       "      dtype='object')"
      ]
     },
     "execution_count": 63,
     "metadata": {},
     "output_type": "execute_result"
    }
   ],
   "source": [
    "cleaned_features1.columns"
   ]
  },
  {
   "cell_type": "code",
   "execution_count": 64,
   "metadata": {},
   "outputs": [
    {
     "name": "stdout",
     "output_type": "stream",
     "text": [
      "The train score for ls model is 0.47664473375607186\n",
      "The test score for ls model is 0.45691115825313433\n"
     ]
    }
   ],
   "source": [
    "X = cleaned_features1.loc[:, cleaned_features1.columns != 'outcome'].values\n",
    "y = cleaned_features1['outcome'].values\n",
    "\n",
    "\n",
    "X_train, X_test, y_train, y_test = train_test_split(X, y, test_size=0.3, random_state=17)\n",
    "scaler = StandardScaler()\n",
    "X_train = scaler.fit_transform(X_train)\n",
    "X_test = scaler.transform(X_test)\n",
    "\n",
    "lasso = Lasso(alpha = .0015)\n",
    "lasso.fit(X_train,y_train)\n",
    "train_score_ls =lasso.score(X_train,y_train)\n",
    "test_score_ls =lasso.score(X_test,y_test)\n",
    "\n",
    "print(\"The train score for ls model is {}\".format(train_score_ls))\n",
    "print(\"The test score for ls model is {}\".format(test_score_ls))"
   ]
  },
  {
   "cell_type": "code",
   "execution_count": 65,
   "metadata": {},
   "outputs": [
    {
     "data": {
      "image/png": "[encoded data removed]",
      "text/plain": [
       "<Figure size 640x480 with 1 Axes>"
      ]
     },
     "metadata": {},
     "output_type": "display_data"
    }
   ],
   "source": [
    "names=cleaned_features1.drop(\"outcome\", axis=1).columns\n",
    "lasso1 = Lasso(alpha=0.01)\n",
    "lasso1.fit(X_train, y_train)\n",
    "\n",
    "# Using np.abs() to make coefficients positive.  \n",
    "lasso1_coef = np.abs(lasso1.coef_)\n",
    "\n",
    "# plotting the Column Names and Importance of Columns. \n",
    "plt.bar(names, lasso1_coef)\n",
    "plt.xticks(rotation=90)\n",
    "plt.grid()\n",
    "plt.title(\"Feature Selection Based on Lasso\")\n",
    "plt.xlabel(\"Features\")\n",
    "plt.ylabel(\"Importance\")\n",
    "plt.ylim(0, 0.15)\n",
    "plt.show()"
   ]
  },
  {
   "cell_type": "code",
   "execution_count": null,
   "metadata": {},
   "outputs": [],
   "source": [
    "\n"
   ]
  },
  {
   "cell_type": "code",
   "execution_count": 66,
   "metadata": {},
   "outputs": [
    {
     "name": "stdout",
     "output_type": "stream",
     "text": [
      "0.4733694795580866\n",
      "0.45753886467230376\n",
      "Best alpha: 0.01\n"
     ]
    },
    {
     "name": "stderr",
     "output_type": "stream",
     "text": [
      "C:\\Users\\ddron\\anaconda3\\Lib\\site-packages\\sklearn\\linear_model\\_coordinate_descent.py:617: ConvergenceWarning: Objective did not converge. You might want to increase the number of iterations. Duality gap: 2.3111710850790246, tolerance: 0.06817085427135677\n",
      "  model = cd_fast.enet_coordinate_descent_gram(\n",
      "C:\\Users\\ddron\\anaconda3\\Lib\\site-packages\\sklearn\\linear_model\\_coordinate_descent.py:617: ConvergenceWarning: Objective did not converge. You might want to increase the number of iterations. Duality gap: 2.5827756755696782, tolerance: 0.06815624551328076\n",
      "  model = cd_fast.enet_coordinate_descent_gram(\n",
      "C:\\Users\\ddron\\anaconda3\\Lib\\site-packages\\sklearn\\linear_model\\_coordinate_descent.py:617: ConvergenceWarning: Objective did not converge. You might want to increase the number of iterations. Duality gap: 0.9566475507325549, tolerance: 0.06770136396267047\n",
      "  model = cd_fast.enet_coordinate_descent_gram(\n",
      "C:\\Users\\ddron\\anaconda3\\Lib\\site-packages\\sklearn\\linear_model\\_coordinate_descent.py:617: ConvergenceWarning: Objective did not converge. You might want to increase the number of iterations. Duality gap: 13.13737580619238, tolerance: 0.06808510943667023\n",
      "  model = cd_fast.enet_coordinate_descent_gram(\n",
      "C:\\Users\\ddron\\anaconda3\\Lib\\site-packages\\sklearn\\linear_model\\_coordinate_descent.py:617: ConvergenceWarning: Objective did not converge. You might want to increase the number of iterations. Duality gap: 1.035391037757904, tolerance: 0.06830362396842489\n",
      "  model = cd_fast.enet_coordinate_descent_gram(\n"
     ]
    }
   ],
   "source": [
    "from sklearn.linear_model import LassoCV\n",
    "\n",
    "#Lasso Cross validation\n",
    "lasso_cv = LassoCV(alphas = [0.0001, 0.001,0.01, 0.1, 1, 10], random_state=0).fit(X_train, y_train)\n",
    "\n",
    "\n",
    "#score\n",
    "print(lasso_cv.score(X_train, y_train))\n",
    "print(lasso_cv.score(X_test, y_test))\n",
    "best_alpha = lasso_cv.alpha_\n",
    "\n",
    "print(\"Best alpha:\", best_alpha)"
   ]
  }
 ],
 "metadata": {
  "colab": {
   "provenance": []
  },
  "kernelspec": {
   "display_name": "Python 3 (ipykernel)",
   "language": "python",
   "name": "python3"
  },
  "language_info": {
   "codemirror_mode": {
    "name": "ipython",
    "version": 3
   },
   "file_extension": ".py",
   "mimetype": "text/x-python",
   "name": "python",
   "nbconvert_exporter": "python",
   "pygments_lexer": "ipython3",
   "version": "3.11.7"
  }
 },
 "nbformat": 4,
 "nbformat_minor": 4
}
