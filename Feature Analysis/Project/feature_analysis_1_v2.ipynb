{
 "cells": [
  {
   "cell_type": "markdown",
   "metadata": {},
   "source": [
    "This notebook will create a preliminary dataset with features like records, fight details and fighter details. Then run a lasso reggression to determine the significant variables."
   ]
  },
  {
   "cell_type": "code",
   "execution_count": 299,
   "metadata": {
    "scrolled": true
   },
   "outputs": [
    {
     "data": {
      "text/plain": [
       "Index(['event', 'outcome', 'weightclass', 'method', 'round', 'time',\n",
       "       'fight_id', 'fighter1', 'fighter2', 'date'],\n",
       "      dtype='object')"
      ]
     },
     "execution_count": 299,
     "metadata": {},
     "output_type": "execute_result"
    }
   ],
   "source": [
    "import pandas as pd\n",
    "df = pd.read_csv('./raw/ufc_fight_results_date.txt')\n",
    "df.columns"
   ]
  },
  {
   "cell_type": "code",
   "execution_count": 300,
   "metadata": {
    "colab": {
     "base_uri": "https://localhost:8080/",
     "height": 206
    },
    "id": "FpzUnXCAIQA5",
    "outputId": "5984bb88-3631-4f69-e72c-1b596bd7f5b6"
   },
   "outputs": [
    {
     "data": {
      "text/html": [
       "<div>\n",
       "<style scoped>\n",
       "    .dataframe tbody tr th:only-of-type {\n",
       "        vertical-align: middle;\n",
       "    }\n",
       "\n",
       "    .dataframe tbody tr th {\n",
       "        vertical-align: top;\n",
       "    }\n",
       "\n",
       "    .dataframe thead th {\n",
       "        text-align: right;\n",
       "    }\n",
       "</style>\n",
       "<table border=\"1\" class=\"dataframe\">\n",
       "  <thead>\n",
       "    <tr style=\"text-align: right;\">\n",
       "      <th></th>\n",
       "      <th>event</th>\n",
       "      <th>outcome</th>\n",
       "      <th>weightclass</th>\n",
       "      <th>method</th>\n",
       "      <th>round</th>\n",
       "      <th>time</th>\n",
       "      <th>fight_id</th>\n",
       "      <th>fighter1</th>\n",
       "      <th>fighter2</th>\n",
       "      <th>date</th>\n",
       "    </tr>\n",
       "  </thead>\n",
       "  <tbody>\n",
       "    <tr>\n",
       "      <th>0</th>\n",
       "      <td>UFC Fight Night: Dolidze vs. Imavov</td>\n",
       "      <td>0.0</td>\n",
       "      <td>mw</td>\n",
       "      <td>dec_maj</td>\n",
       "      <td>5</td>\n",
       "      <td>300</td>\n",
       "      <td>767ceb4a0cb43ade</td>\n",
       "      <td>Roman Dolidze</td>\n",
       "      <td>Nassourdine Imavov</td>\n",
       "      <td>2024-02-03</td>\n",
       "    </tr>\n",
       "    <tr>\n",
       "      <th>1</th>\n",
       "      <td>UFC Fight Night: Dolidze vs. Imavov</td>\n",
       "      <td>1.0</td>\n",
       "      <td>lw</td>\n",
       "      <td>dec_una</td>\n",
       "      <td>3</td>\n",
       "      <td>300</td>\n",
       "      <td>733e675fd7c0052a</td>\n",
       "      <td>Renato Moicano</td>\n",
       "      <td>Drew Dober</td>\n",
       "      <td>2024-02-03</td>\n",
       "    </tr>\n",
       "    <tr>\n",
       "      <th>2</th>\n",
       "      <td>UFC Fight Night: Dolidze vs. Imavov</td>\n",
       "      <td>1.0</td>\n",
       "      <td>ww</td>\n",
       "      <td>ko_tko</td>\n",
       "      <td>1</td>\n",
       "      <td>197</td>\n",
       "      <td>af6d56860ba4d259</td>\n",
       "      <td>Randy Brown</td>\n",
       "      <td>Muslim Salikhov</td>\n",
       "      <td>2024-02-03</td>\n",
       "    </tr>\n",
       "    <tr>\n",
       "      <th>3</th>\n",
       "      <td>UFC Fight Night: Dolidze vs. Imavov</td>\n",
       "      <td>0.0</td>\n",
       "      <td>wflw</td>\n",
       "      <td>dec_una</td>\n",
       "      <td>3</td>\n",
       "      <td>300</td>\n",
       "      <td>7b1882dc76786d77</td>\n",
       "      <td>Viviane Araujo</td>\n",
       "      <td>Natalia Silva</td>\n",
       "      <td>2024-02-03</td>\n",
       "    </tr>\n",
       "    <tr>\n",
       "      <th>4</th>\n",
       "      <td>UFC Fight Night: Dolidze vs. Imavov</td>\n",
       "      <td>0.0</td>\n",
       "      <td>ww</td>\n",
       "      <td>ko_tko</td>\n",
       "      <td>1</td>\n",
       "      <td>287</td>\n",
       "      <td>330d86bfaa4155fe</td>\n",
       "      <td>Gilbert Urbina</td>\n",
       "      <td>Charles Radtke</td>\n",
       "      <td>2024-02-03</td>\n",
       "    </tr>\n",
       "  </tbody>\n",
       "</table>\n",
       "</div>"
      ],
      "text/plain": [
       "                                 event  outcome weightclass   method  round  \\\n",
       "0  UFC Fight Night: Dolidze vs. Imavov      0.0          mw  dec_maj      5   \n",
       "1  UFC Fight Night: Dolidze vs. Imavov      1.0          lw  dec_una      3   \n",
       "2  UFC Fight Night: Dolidze vs. Imavov      1.0          ww   ko_tko      1   \n",
       "3  UFC Fight Night: Dolidze vs. Imavov      0.0        wflw  dec_una      3   \n",
       "4  UFC Fight Night: Dolidze vs. Imavov      0.0          ww   ko_tko      1   \n",
       "\n",
       "   time          fight_id         fighter1            fighter2        date  \n",
       "0   300  767ceb4a0cb43ade   Roman Dolidze   Nassourdine Imavov  2024-02-03  \n",
       "1   300  733e675fd7c0052a  Renato Moicano           Drew Dober  2024-02-03  \n",
       "2   197  af6d56860ba4d259     Randy Brown      Muslim Salikhov  2024-02-03  \n",
       "3   300  7b1882dc76786d77  Viviane Araujo        Natalia Silva  2024-02-03  \n",
       "4   287  330d86bfaa4155fe  Gilbert Urbina       Charles Radtke  2024-02-03  "
      ]
     },
     "execution_count": 300,
     "metadata": {},
     "output_type": "execute_result"
    }
   ],
   "source": [
    "df.head()"
   ]
  },
  {
   "cell_type": "code",
   "execution_count": 301,
   "metadata": {
    "colab": {
     "base_uri": "https://localhost:8080/",
     "height": 908
    },
    "id": "pKAQvhYbHeJ9",
    "outputId": "56432728-36e7-4fc2-e911-c8e11d106eb1"
   },
   "outputs": [],
   "source": [
    "\n",
    "import numpy as np\n",
    "import seaborn as sns\n",
    "import matplotlib.pyplot as plt\n",
    "from sklearn.model_selection import train_test_split\n",
    "from sklearn.linear_model import LinearRegression\n",
    "from sklearn.linear_model import Ridge, RidgeCV, Lasso\n",
    "from sklearn.preprocessing import StandardScaler\n"
   ]
  },
  {
   "cell_type": "code",
   "execution_count": 302,
   "metadata": {
    "colab": {
     "base_uri": "https://localhost:8080/",
     "height": 424
    },
    "id": "bbnd33HoJrsU",
    "outputId": "d894c543-85aa-4d22-c6ce-54b80ee8200d"
   },
   "outputs": [],
   "source": [
    "#creating record for fighter 1\n",
    "\n",
    "record = df.groupby(['fighter1', 'outcome'])['event'].count().reset_index()\n",
    "record['outcome'] = np.where(\n",
    "     record['outcome']== 0.0,\n",
    "    'Win',\n",
    "     np.where(\n",
    "        record['outcome'] == 1.0, 'Loss', 'Tie'\n",
    "     )\n",
    ")\n",
    "record_pivot = pd.pivot_table(data=record, values='event', index= 'fighter1',columns = 'outcome', aggfunc= 'sum')\n",
    "record_pivot = record_pivot.fillna(0)\n",
    "\n",
    "fighter_records = record_pivot.reset_index()\n",
    "#fighter_records\n",
    "\n",
    "\n",
    "#creating record for fighter 2\n",
    "record2 = df.groupby(['fighter2', 'outcome'])['event'].count().reset_index()\n",
    "#record2.head()\n",
    "record2['outcome'] = np.where(\n",
    "     record2['outcome']== 0.0,\n",
    "    'Lose',\n",
    "     np.where(\n",
    "        record2['outcome'] == 1.0, 'Win', 'Tie'\n",
    "     )\n",
    ")\n",
    "record_pivot2 = pd.pivot_table(data=record2, values='event', index= 'fighter2',columns = 'outcome', aggfunc= 'sum')\n",
    "record_pivot2 = record_pivot2.fillna(0)\n",
    "\n",
    "fighter_records2 = record_pivot2.reset_index()\n",
    "#fighter_records2"
   ]
  },
  {
   "cell_type": "code",
   "execution_count": 303,
   "metadata": {
    "colab": {
     "base_uri": "https://localhost:8080/",
     "height": 293
    },
    "id": "mlSVpMDwi76s",
    "outputId": "ccc2a64b-c8a5-4466-a8f1-8b4263597989"
   },
   "outputs": [],
   "source": [
    "#the record tables were exported to excel for easier manipulation, then saved as a new csv \"fighter records\"\n",
    "\n",
    "#merging the records to the fight_results df\n",
    "\n",
    "ufc_records = pd.read_csv('C:/Users/ddron/Documents/Divya GA Tech Course Files/Gatech Course Material Back up/MGT 6203/Project/code/Team-45/Feature Analysis/Project/raw/fighter_records.csv')\n",
    "new = df.merge(ufc_records, left_on= 'fighter1', right_on = 'fighter', how='left')\n",
    "new = new.merge(ufc_records, left_on= 'fighter2', right_on = 'fighter', how='left')\n",
    "new= new.rename(columns={'W_x': 'W_f1', 'L_x': 'L_f1', 'W_y': 'W_f2', 'L_y': 'L_f2','fights_x': 'fights_f1', 'fights_y': 'fights_f2' })\n",
    "new = new.drop(['fighter_x', 'fighter_y'], axis=1)\n",
    "\n",
    "# Creating win proportion as a new variable because win/loss/total are highly correlated\n",
    "new[\"win_proportion_f1\"] = new['W_f1'] / new['fights_f1']\n",
    "new[\"win_proportion_f1\"] = new['win_proportion_f1'].replace([float('inf'), float('-inf')], 0)\n",
    "\n",
    "new[\"win_proportion_f2\"] = new['W_f2'] / new['fights_f2']\n",
    "new[\"win_proportion_f2\"] = new['win_proportion_f2'].replace([float('inf'), float('-inf')], 0)\n",
    "\n",
    "new.drop(columns=[\"W_f1\",\"W_f2\",\"L_f1\",\"L_f2\"],inplace=True)\n",
    "\n",
    "\n"
   ]
  },
  {
   "cell_type": "code",
   "execution_count": 304,
   "metadata": {},
   "outputs": [
    {
     "data": {
      "text/plain": [
       "Index(['event', 'outcome', 'weightclass', 'method', 'round', 'time',\n",
       "       'fight_id', 'fighter1', 'fighter2', 'date', 'fights_f1', 'fights_f2',\n",
       "       'win_proportion_f1', 'win_proportion_f2'],\n",
       "      dtype='object')"
      ]
     },
     "execution_count": 304,
     "metadata": {},
     "output_type": "execute_result"
    }
   ],
   "source": [
    "new.columns"
   ]
  },
  {
   "cell_type": "code",
   "execution_count": 305,
   "metadata": {
    "colab": {
     "base_uri": "https://localhost:8080/",
     "height": 597
    },
    "id": "1nY43t4TuCdQ",
    "outputId": "e9a79959-0edd-44a0-d84a-be234f4e5aca"
   },
   "outputs": [],
   "source": [
    "#mapping the weight class to numeric\n",
    "# wclasses = new['weightclass'].unique()\n",
    "# wclass_dummies = {}\n",
    "# a=0\n",
    "\n",
    "# for i in wclasses:\n",
    "#   wclass_dummies[i] = a\n",
    "#   a+=1\n",
    "\n",
    "# wclass_dummies\n",
    "\n",
    "\n",
    "# #stripping the name columns\n",
    "# new2 = new.replace(wclass_dummies.keys(),wclass_dummies.values())\n",
    "df_obj = new.select_dtypes('object')\n",
    "new[df_obj.columns] = df_obj.apply(lambda x: x.str.strip())\n",
    "\n",
    "#new2\n"
   ]
  },
  {
   "cell_type": "code",
   "execution_count": 306,
   "metadata": {
    "colab": {
     "base_uri": "https://localhost:8080/",
     "height": 947
    },
    "id": "fJYv4zqKK-EI",
    "outputId": "ab0e9012-860a-4041-bc91-5722b501ceb7"
   },
   "outputs": [],
   "source": [
    "#adding fighter attributes and merging into main dataframe\n",
    "\n",
    "fighter_attributes = pd.read_csv('./raw/ufc_fighter_tott_clean.txt')\n",
    "new3 = pd.merge(new, fighter_attributes, left_on='fighter1', right_on='fighter', how='left')\n",
    "new3 = pd.merge(new3, fighter_attributes, left_on='fighter2', right_on='fighter', how='inner')\n",
    "#new3.head()\n"
   ]
  },
  {
   "cell_type": "code",
   "execution_count": 307,
   "metadata": {},
   "outputs": [],
   "source": [
    "#Creating new variables for difference in heights, reach, stance_orthodox and stance_southpaw as they are very correlated\n",
    "new3[\"height_diff\"]=new3[\"height_x\"]-new3[\"height_y\"]\n",
    "new3[\"reach_diff\"]=new3[\"reach_x\"]-new3[\"reach_y\"]\n",
    "new3.drop(columns=[\"height_x\",\"height_y\",\"reach_x\",\"reach_y\"],inplace=True)"
   ]
  },
  {
   "cell_type": "code",
   "execution_count": 308,
   "metadata": {},
   "outputs": [],
   "source": [
    "#exporting this to be used in the cleaned_features notebook\n",
    "\n",
    "new3.to_csv('./raw/clean_df_temporary.csv', index=False)"
   ]
  },
  {
   "cell_type": "code",
   "execution_count": 309,
   "metadata": {
    "colab": {
     "base_uri": "https://localhost:8080/"
    },
    "id": "D1Zv1t6-Lspr",
    "outputId": "80907e3f-7c03-4cfa-bd9c-9f93cc3bd8e1"
   },
   "outputs": [],
   "source": [
    "#Creating a age column at the time of the fight\n",
    "\n",
    "new3['age_x'] = pd.to_datetime(new3['date']) - pd.to_datetime(new3['dob_x'])\n",
    "new3['age_y'] = pd.to_datetime(new3['date']) - pd.to_datetime(new3['dob_y'])\n",
    "#new3"
   ]
  },
  {
   "cell_type": "code",
   "execution_count": 310,
   "metadata": {},
   "outputs": [
    {
     "data": {
      "text/plain": [
       "event                   0\n",
       "outcome                 0\n",
       "weightclass             0\n",
       "method                  0\n",
       "round                   0\n",
       "time                    0\n",
       "fight_id                0\n",
       "fighter1                0\n",
       "fighter2                0\n",
       "date                    0\n",
       "fights_f1              44\n",
       "fights_f2              42\n",
       "win_proportion_f1      44\n",
       "win_proportion_f2      42\n",
       "fighter_x              15\n",
       "stance_x              148\n",
       "dob_x                5245\n",
       "fighter_id_x           15\n",
       "fighter_y               0\n",
       "stance_y              199\n",
       "dob_y                5235\n",
       "fighter_id_y            0\n",
       "height_diff           148\n",
       "reach_diff            659\n",
       "age_x                5245\n",
       "age_y                5235\n",
       "dtype: int64"
      ]
     },
     "execution_count": 310,
     "metadata": {},
     "output_type": "execute_result"
    }
   ],
   "source": [
    "#Looks like the date of births in the ufc_fighter_tott_clean data is mostly blanks. I'll remove the age columns for now for the purposes of \n",
    "# feature analysis, but would be interested to add the back in later\n",
    "\n",
    "\n",
    "new3.isna().sum()"
   ]
  },
  {
   "cell_type": "code",
   "execution_count": 311,
   "metadata": {
    "scrolled": true
   },
   "outputs": [],
   "source": [
    "#dropping features that won't be important to the model, and dropping null values\n",
    "\n",
    "cleaned_features1 = new3.drop(columns= (['age_x', 'age_y', 'dob_x', 'dob_y', 'date', 'event', 'fight_id', 'fighter1', 'fighter2', 'method', 'fighter_id_x', 'fighter_id_y', 'fighter_x', 'fighter_y']))\n",
    "cleaned_features1.dropna(inplace=True)"
   ]
  },
  {
   "cell_type": "code",
   "execution_count": 312,
   "metadata": {},
   "outputs": [],
   "source": [
    "#creating dummy variables for all categorical caolumns\n",
    "\n",
    "cleaned_features1['round'] = cleaned_features1['round'].astype('category')\n",
    "pd.set_option('display.max_columns', None)\n",
    "cleaned_features1 = pd.get_dummies(cleaned_features1, drop_first = True, dtype = int)\n",
    "#Interaction terms produced constants\n",
    "# cleaned_features1[\"stance_x_Orthodox_Southpaw\"]=cleaned_features1[\"stance_x_Orthodox\"]*cleaned_features1[\"stance_x_Southpaw\"]\n",
    "# cleaned_features1[\"stance_y_Orthodox_Southpaw\"]=cleaned_features1[\"stance_y_Orthodox\"]*cleaned_features1[\"stance_y_Southpaw\"]\n",
    "cleaned_features1.drop(columns=[\"stance_x_Southpaw\",\"stance_y_Southpaw\"],inplace=True)"
   ]
  },
  {
   "cell_type": "code",
   "execution_count": 313,
   "metadata": {},
   "outputs": [],
   "source": [
    "#exporting this dataset \n",
    "cleaned_features1.to_csv('./clean/cleaned_features.csv')"
   ]
  }
 ],
 "metadata": {
  "colab": {
   "provenance": []
  },
  "kernelspec": {
   "display_name": "Python 3 (ipykernel)",
   "language": "python",
   "name": "python3"
  },
  "language_info": {
   "codemirror_mode": {
    "name": "ipython",
    "version": 3
   },
   "file_extension": ".py",
   "mimetype": "text/x-python",
   "name": "python",
   "nbconvert_exporter": "python",
   "pygments_lexer": "ipython3",
   "version": "3.11.7"
  }
 },
 "nbformat": 4,
 "nbformat_minor": 4
}
