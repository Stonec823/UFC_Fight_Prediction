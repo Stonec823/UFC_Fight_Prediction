{
  "cells": [
    {
      "cell_type": "markdown",
      "metadata": {},
      "source": [
        "This notebook will create a preliminary dataset with features like records, fight details and fighter details. Then run a lasso reggression to determine the significant variables."
      ]
    },
    {
      "cell_type": "code",
      "execution_count": 59,
      "metadata": {},
      "outputs": [
        {
          "data": {
            "text/plain": [
              "Index(['event', 'outcome', 'weightclass', 'method', 'round', 'time',\n",
              "       'fight_id', 'fighter1', 'fighter2', 'date'],\n",
              "      dtype='object')"
            ]
          },
          "execution_count": 59,
          "metadata": {},
          "output_type": "execute_result"
        }
      ],
      "source": [
        "import pandas as pd\n",
        "df = pd.read_csv('/Users/cstone/Documents/School/MGMT 6203/Project/raw/ufc_fight_results_date.txt')\n",
        "df.columns"
      ]
    },
    {
      "cell_type": "code",
      "execution_count": 60,
      "metadata": {
        "colab": {
          "base_uri": "https://localhost:8080/",
          "height": 206
        },
        "id": "FpzUnXCAIQA5",
        "outputId": "5984bb88-3631-4f69-e72c-1b596bd7f5b6"
      },
      "outputs": [
        {
          "data": {
            "text/html": [
              "<div>\n",
              "<style scoped>\n",
              "    .dataframe tbody tr th:only-of-type {\n",
              "        vertical-align: middle;\n",
              "    }\n",
              "\n",
              "    .dataframe tbody tr th {\n",
              "        vertical-align: top;\n",
              "    }\n",
              "\n",
              "    .dataframe thead th {\n",
              "        text-align: right;\n",
              "    }\n",
              "</style>\n",
              "<table border=\"1\" class=\"dataframe\">\n",
              "  <thead>\n",
              "    <tr style=\"text-align: right;\">\n",
              "      <th></th>\n",
              "      <th>event</th>\n",
              "      <th>outcome</th>\n",
              "      <th>weightclass</th>\n",
              "      <th>method</th>\n",
              "      <th>round</th>\n",
              "      <th>time</th>\n",
              "      <th>fight_id</th>\n",
              "      <th>fighter1</th>\n",
              "      <th>fighter2</th>\n",
              "      <th>date</th>\n",
              "    </tr>\n",
              "  </thead>\n",
              "  <tbody>\n",
              "    <tr>\n",
              "      <th>0</th>\n",
              "      <td>UFC Fight Night: Dolidze vs. Imavov</td>\n",
              "      <td>0.0</td>\n",
              "      <td>mw</td>\n",
              "      <td>dec_maj</td>\n",
              "      <td>5</td>\n",
              "      <td>300</td>\n",
              "      <td>767ceb4a0cb43ade</td>\n",
              "      <td>Roman Dolidze</td>\n",
              "      <td>Nassourdine Imavov</td>\n",
              "      <td>2024-02-03</td>\n",
              "    </tr>\n",
              "    <tr>\n",
              "      <th>1</th>\n",
              "      <td>UFC Fight Night: Dolidze vs. Imavov</td>\n",
              "      <td>1.0</td>\n",
              "      <td>lw</td>\n",
              "      <td>dec_una</td>\n",
              "      <td>3</td>\n",
              "      <td>300</td>\n",
              "      <td>733e675fd7c0052a</td>\n",
              "      <td>Renato Moicano</td>\n",
              "      <td>Drew Dober</td>\n",
              "      <td>2024-02-03</td>\n",
              "    </tr>\n",
              "    <tr>\n",
              "      <th>2</th>\n",
              "      <td>UFC Fight Night: Dolidze vs. Imavov</td>\n",
              "      <td>1.0</td>\n",
              "      <td>ww</td>\n",
              "      <td>ko_tko</td>\n",
              "      <td>1</td>\n",
              "      <td>197</td>\n",
              "      <td>af6d56860ba4d259</td>\n",
              "      <td>Randy Brown</td>\n",
              "      <td>Muslim Salikhov</td>\n",
              "      <td>2024-02-03</td>\n",
              "    </tr>\n",
              "    <tr>\n",
              "      <th>3</th>\n",
              "      <td>UFC Fight Night: Dolidze vs. Imavov</td>\n",
              "      <td>0.0</td>\n",
              "      <td>wflw</td>\n",
              "      <td>dec_una</td>\n",
              "      <td>3</td>\n",
              "      <td>300</td>\n",
              "      <td>7b1882dc76786d77</td>\n",
              "      <td>Viviane Araujo</td>\n",
              "      <td>Natalia Silva</td>\n",
              "      <td>2024-02-03</td>\n",
              "    </tr>\n",
              "    <tr>\n",
              "      <th>4</th>\n",
              "      <td>UFC Fight Night: Dolidze vs. Imavov</td>\n",
              "      <td>0.0</td>\n",
              "      <td>ww</td>\n",
              "      <td>ko_tko</td>\n",
              "      <td>1</td>\n",
              "      <td>287</td>\n",
              "      <td>330d86bfaa4155fe</td>\n",
              "      <td>Gilbert Urbina</td>\n",
              "      <td>Charles Radtke</td>\n",
              "      <td>2024-02-03</td>\n",
              "    </tr>\n",
              "  </tbody>\n",
              "</table>\n",
              "</div>"
            ],
            "text/plain": [
              "                                 event  outcome weightclass   method  round  \\\n",
              "0  UFC Fight Night: Dolidze vs. Imavov      0.0          mw  dec_maj      5   \n",
              "1  UFC Fight Night: Dolidze vs. Imavov      1.0          lw  dec_una      3   \n",
              "2  UFC Fight Night: Dolidze vs. Imavov      1.0          ww   ko_tko      1   \n",
              "3  UFC Fight Night: Dolidze vs. Imavov      0.0        wflw  dec_una      3   \n",
              "4  UFC Fight Night: Dolidze vs. Imavov      0.0          ww   ko_tko      1   \n",
              "\n",
              "   time          fight_id         fighter1            fighter2        date  \n",
              "0   300  767ceb4a0cb43ade   Roman Dolidze   Nassourdine Imavov  2024-02-03  \n",
              "1   300  733e675fd7c0052a  Renato Moicano           Drew Dober  2024-02-03  \n",
              "2   197  af6d56860ba4d259     Randy Brown      Muslim Salikhov  2024-02-03  \n",
              "3   300  7b1882dc76786d77  Viviane Araujo        Natalia Silva  2024-02-03  \n",
              "4   287  330d86bfaa4155fe  Gilbert Urbina       Charles Radtke  2024-02-03  "
            ]
          },
          "execution_count": 60,
          "metadata": {},
          "output_type": "execute_result"
        }
      ],
      "source": [
        "df.head()"
      ]
    },
    {
      "cell_type": "code",
      "execution_count": 61,
      "metadata": {
        "colab": {
          "base_uri": "https://localhost:8080/",
          "height": 908
        },
        "id": "pKAQvhYbHeJ9",
        "outputId": "56432728-36e7-4fc2-e911-c8e11d106eb1"
      },
      "outputs": [],
      "source": [
        "\n",
        "import numpy as np\n",
        "import seaborn as sns\n",
        "import matplotlib.pyplot as plt\n",
        "from sklearn.model_selection import train_test_split\n",
        "from sklearn.linear_model import LinearRegression\n",
        "from sklearn.linear_model import Ridge, RidgeCV, Lasso\n",
        "from sklearn.preprocessing import StandardScaler\n"
      ]
    },
    {
      "cell_type": "code",
      "execution_count": 62,
      "metadata": {
        "colab": {
          "base_uri": "https://localhost:8080/",
          "height": 424
        },
        "id": "bbnd33HoJrsU",
        "outputId": "d894c543-85aa-4d22-c6ce-54b80ee8200d"
      },
      "outputs": [],
      "source": [
        "#creating record for fighter 1\n",
        "\n",
        "record = df.groupby(['fighter1', 'outcome'])['event'].count().reset_index()\n",
        "record['outcome'] = np.where(\n",
        "     record['outcome']== 0.0,\n",
        "    'Win',\n",
        "     np.where(\n",
        "        record['outcome'] == 1.0, 'Loss', 'Tie'\n",
        "     )\n",
        ")\n",
        "record_pivot = pd.pivot_table(data=record, values='event', index= 'fighter1',columns = 'outcome', aggfunc= 'sum')\n",
        "record_pivot = record_pivot.fillna(0)\n",
        "\n",
        "fighter_records = record_pivot.reset_index()\n",
        "#fighter_records\n",
        "\n",
        "\n",
        "#creating record for fighter 2\n",
        "record2 = df.groupby(['fighter2', 'outcome'])['event'].count().reset_index()\n",
        "#record2.head()\n",
        "record2['outcome'] = np.where(\n",
        "     record2['outcome']== 0.0,\n",
        "    'Lose',\n",
        "     np.where(\n",
        "        record2['outcome'] == 1.0, 'Win', 'Tie'\n",
        "     )\n",
        ")\n",
        "record_pivot2 = pd.pivot_table(data=record2, values='event', index= 'fighter2',columns = 'outcome', aggfunc= 'sum')\n",
        "record_pivot2 = record_pivot2.fillna(0)\n",
        "\n",
        "fighter_records2 = record_pivot2.reset_index()\n",
        "#fighter_records2"
      ]
    },
    {
      "cell_type": "code",
      "execution_count": 82,
      "metadata": {
        "colab": {
          "base_uri": "https://localhost:8080/",
          "height": 293
        },
        "id": "mlSVpMDwi76s",
        "outputId": "ccc2a64b-c8a5-4466-a8f1-8b4263597989"
      },
      "outputs": [
        {
          "data": {
            "text/html": [
              "<div>\n",
              "<style scoped>\n",
              "    .dataframe tbody tr th:only-of-type {\n",
              "        vertical-align: middle;\n",
              "    }\n",
              "\n",
              "    .dataframe tbody tr th {\n",
              "        vertical-align: top;\n",
              "    }\n",
              "\n",
              "    .dataframe thead th {\n",
              "        text-align: right;\n",
              "    }\n",
              "</style>\n",
              "<table border=\"1\" class=\"dataframe\">\n",
              "  <thead>\n",
              "    <tr style=\"text-align: right;\">\n",
              "      <th></th>\n",
              "      <th>event</th>\n",
              "      <th>outcome</th>\n",
              "      <th>weightclass</th>\n",
              "      <th>method</th>\n",
              "      <th>round</th>\n",
              "      <th>time</th>\n",
              "      <th>fight_id</th>\n",
              "      <th>fighter1</th>\n",
              "      <th>fighter2</th>\n",
              "      <th>date</th>\n",
              "      <th>L_f1</th>\n",
              "      <th>W_f1</th>\n",
              "      <th>fights_f1</th>\n",
              "      <th>L_f2</th>\n",
              "      <th>W_f2</th>\n",
              "      <th>fights_f2</th>\n",
              "    </tr>\n",
              "  </thead>\n",
              "  <tbody>\n",
              "    <tr>\n",
              "      <th>0</th>\n",
              "      <td>UFC Fight Night: Dolidze vs. Imavov</td>\n",
              "      <td>0.0</td>\n",
              "      <td>mw</td>\n",
              "      <td>dec_maj</td>\n",
              "      <td>5</td>\n",
              "      <td>300</td>\n",
              "      <td>767ceb4a0cb43ade</td>\n",
              "      <td>Roman Dolidze</td>\n",
              "      <td>Nassourdine Imavov</td>\n",
              "      <td>2024-02-03</td>\n",
              "      <td>1.0</td>\n",
              "      <td>4.0</td>\n",
              "      <td>5.0</td>\n",
              "      <td>2.0</td>\n",
              "      <td>3.0</td>\n",
              "      <td>5.0</td>\n",
              "    </tr>\n",
              "    <tr>\n",
              "      <th>1</th>\n",
              "      <td>UFC Fight Night: Dolidze vs. Imavov</td>\n",
              "      <td>1.0</td>\n",
              "      <td>lw</td>\n",
              "      <td>dec_una</td>\n",
              "      <td>3</td>\n",
              "      <td>300</td>\n",
              "      <td>733e675fd7c0052a</td>\n",
              "      <td>Renato Moicano</td>\n",
              "      <td>Drew Dober</td>\n",
              "      <td>2024-02-03</td>\n",
              "      <td>2.0</td>\n",
              "      <td>5.0</td>\n",
              "      <td>7.0</td>\n",
              "      <td>7.0</td>\n",
              "      <td>4.0</td>\n",
              "      <td>11.0</td>\n",
              "    </tr>\n",
              "    <tr>\n",
              "      <th>2</th>\n",
              "      <td>UFC Fight Night: Dolidze vs. Imavov</td>\n",
              "      <td>1.0</td>\n",
              "      <td>ww</td>\n",
              "      <td>ko_tko</td>\n",
              "      <td>1</td>\n",
              "      <td>197</td>\n",
              "      <td>af6d56860ba4d259</td>\n",
              "      <td>Randy Brown</td>\n",
              "      <td>Muslim Salikhov</td>\n",
              "      <td>2024-02-03</td>\n",
              "      <td>3.0</td>\n",
              "      <td>7.0</td>\n",
              "      <td>10.0</td>\n",
              "      <td>3.0</td>\n",
              "      <td>4.0</td>\n",
              "      <td>7.0</td>\n",
              "    </tr>\n",
              "    <tr>\n",
              "      <th>3</th>\n",
              "      <td>UFC Fight Night: Dolidze vs. Imavov</td>\n",
              "      <td>0.0</td>\n",
              "      <td>wflw</td>\n",
              "      <td>dec_una</td>\n",
              "      <td>3</td>\n",
              "      <td>300</td>\n",
              "      <td>7b1882dc76786d77</td>\n",
              "      <td>Viviane Araujo</td>\n",
              "      <td>Natalia Silva</td>\n",
              "      <td>2024-02-03</td>\n",
              "      <td>2.0</td>\n",
              "      <td>2.0</td>\n",
              "      <td>4.0</td>\n",
              "      <td>0.0</td>\n",
              "      <td>3.0</td>\n",
              "      <td>3.0</td>\n",
              "    </tr>\n",
              "    <tr>\n",
              "      <th>4</th>\n",
              "      <td>UFC Fight Night: Dolidze vs. Imavov</td>\n",
              "      <td>0.0</td>\n",
              "      <td>ww</td>\n",
              "      <td>ko_tko</td>\n",
              "      <td>1</td>\n",
              "      <td>287</td>\n",
              "      <td>330d86bfaa4155fe</td>\n",
              "      <td>Gilbert Urbina</td>\n",
              "      <td>Charles Radtke</td>\n",
              "      <td>2024-02-03</td>\n",
              "      <td>1.0</td>\n",
              "      <td>0.0</td>\n",
              "      <td>1.0</td>\n",
              "      <td>0.0</td>\n",
              "      <td>2.0</td>\n",
              "      <td>2.0</td>\n",
              "    </tr>\n",
              "  </tbody>\n",
              "</table>\n",
              "</div>"
            ],
            "text/plain": [
              "                                 event  outcome weightclass   method  round  \\\n",
              "0  UFC Fight Night: Dolidze vs. Imavov      0.0          mw  dec_maj      5   \n",
              "1  UFC Fight Night: Dolidze vs. Imavov      1.0          lw  dec_una      3   \n",
              "2  UFC Fight Night: Dolidze vs. Imavov      1.0          ww   ko_tko      1   \n",
              "3  UFC Fight Night: Dolidze vs. Imavov      0.0        wflw  dec_una      3   \n",
              "4  UFC Fight Night: Dolidze vs. Imavov      0.0          ww   ko_tko      1   \n",
              "\n",
              "   time          fight_id         fighter1            fighter2        date  \\\n",
              "0   300  767ceb4a0cb43ade   Roman Dolidze   Nassourdine Imavov  2024-02-03   \n",
              "1   300  733e675fd7c0052a  Renato Moicano           Drew Dober  2024-02-03   \n",
              "2   197  af6d56860ba4d259     Randy Brown      Muslim Salikhov  2024-02-03   \n",
              "3   300  7b1882dc76786d77  Viviane Araujo        Natalia Silva  2024-02-03   \n",
              "4   287  330d86bfaa4155fe  Gilbert Urbina       Charles Radtke  2024-02-03   \n",
              "\n",
              "   L_f1  W_f1  fights_f1  L_f2  W_f2  fights_f2  \n",
              "0   1.0   4.0        5.0   2.0   3.0        5.0  \n",
              "1   2.0   5.0        7.0   7.0   4.0       11.0  \n",
              "2   3.0   7.0       10.0   3.0   4.0        7.0  \n",
              "3   2.0   2.0        4.0   0.0   3.0        3.0  \n",
              "4   1.0   0.0        1.0   0.0   2.0        2.0  "
            ]
          },
          "execution_count": 82,
          "metadata": {},
          "output_type": "execute_result"
        }
      ],
      "source": [
        "#the record tables were exported to excel for easier manipulation, then saved as a new csv \"fighter records\"\n",
        "\n",
        "#merging the records to the fight_results df\n",
        "\n",
        "ufc_records = pd.read_csv('//Users/cstone/Documents/School/MGMT 6203/Project/raw/fighter_records.csv')\n",
        "new = df.merge(ufc_records, left_on= 'fighter1', right_on = 'fighter', how='left')\n",
        "new = new.merge(ufc_records, left_on= 'fighter2', right_on = 'fighter', how='left')\n",
        "new= new.rename(columns={'W_x': 'L_f1', 'L_x': 'W_f1', 'W_y': 'L_f2', 'L_y': 'W_f2','fights_x': 'fights_f1', 'fights_y': 'fights_f2' })\n",
        "new = new.drop(['fighter_x', 'fighter_y'], axis=1)\n",
        "new.head()\n"
      ]
    },
    {
      "cell_type": "code",
      "execution_count": 83,
      "metadata": {
        "colab": {
          "base_uri": "https://localhost:8080/",
          "height": 597
        },
        "id": "1nY43t4TuCdQ",
        "outputId": "e9a79959-0edd-44a0-d84a-be234f4e5aca"
      },
      "outputs": [],
      "source": [
        "#mapping the weight class to numeric\n",
        "# wclasses = new['weightclass'].unique()\n",
        "# wclass_dummies = {}\n",
        "# a=0\n",
        "\n",
        "# for i in wclasses:\n",
        "#   wclass_dummies[i] = a\n",
        "#   a+=1\n",
        "\n",
        "# wclass_dummies\n",
        "\n",
        "\n",
        "# #stripping the name columns\n",
        "# new2 = new.replace(wclass_dummies.keys(),wclass_dummies.values())\n",
        "df_obj = new.select_dtypes('object')\n",
        "new[df_obj.columns] = df_obj.apply(lambda x: x.str.strip())\n",
        "\n",
        "#new2\n"
      ]
    },
    {
      "cell_type": "code",
      "execution_count": 84,
      "metadata": {
        "colab": {
          "base_uri": "https://localhost:8080/",
          "height": 947
        },
        "id": "fJYv4zqKK-EI",
        "outputId": "ab0e9012-860a-4041-bc91-5722b501ceb7"
      },
      "outputs": [],
      "source": [
        "#adding fighter attributes and merging into main dataframe\n",
        "\n",
        "fighter_attributes = pd.read_csv('/Users/cstone/Documents/School/MGMT 6203/Project/raw/ufc_fighter_tott_clean.txt')\n",
        "new3 = pd.merge(new, fighter_attributes, left_on='fighter1', right_on='fighter', how='left')\n",
        "new3 = pd.merge(new3, fighter_attributes, left_on='fighter2', right_on='fighter', how='inner')\n",
        "# new3.head()\n"
      ]
    },
    {
      "cell_type": "code",
      "execution_count": 86,
      "metadata": {
        "colab": {
          "base_uri": "https://localhost:8080/"
        },
        "id": "D1Zv1t6-Lspr",
        "outputId": "80907e3f-7c03-4cfa-bd9c-9f93cc3bd8e1"
      },
      "outputs": [],
      "source": [
        "#Creating a age column at the time of the fight\n",
        "\n",
        "new3['age_x'] = pd.to_datetime(new3['date']) - pd.to_datetime(new3['dob_x'])\n",
        "new3['age_y'] = pd.to_datetime(new3['date']) - pd.to_datetime(new3['dob_y'])\n",
        "#new3"
      ]
    },
    {
      "cell_type": "code",
      "execution_count": 87,
      "metadata": {},
      "outputs": [
        {
          "data": {
            "text/plain": [
              "Index(['event', 'outcome', 'weightclass', 'method', 'round', 'time',\n",
              "       'fight_id', 'fighter1', 'fighter2', 'date', 'L_f1', 'W_f1', 'fights_f1',\n",
              "       'L_f2', 'W_f2', 'fights_f2', 'fighter_x', 'height_x', 'reach_x',\n",
              "       'stance_x', 'dob_x', 'fighter_id_x', 'fighter_y', 'height_y', 'reach_y',\n",
              "       'stance_y', 'dob_y', 'fighter_id_y', 'age_x', 'age_y'],\n",
              "      dtype='object')"
            ]
          },
          "execution_count": 87,
          "metadata": {},
          "output_type": "execute_result"
        }
      ],
      "source": [
        "new3.columns"
      ]
    },
    {
      "cell_type": "code",
      "execution_count": 88,
      "metadata": {},
      "outputs": [
        {
          "data": {
            "text/plain": [
              "event              0\n",
              "outcome            0\n",
              "weightclass        0\n",
              "method             0\n",
              "round              0\n",
              "time               0\n",
              "fight_id           0\n",
              "fighter1           0\n",
              "fighter2           0\n",
              "date               0\n",
              "L_f1              44\n",
              "W_f1              44\n",
              "fights_f1         44\n",
              "L_f2              42\n",
              "W_f2              42\n",
              "fights_f2         42\n",
              "fighter_x         15\n",
              "height_x          87\n",
              "reach_x          260\n",
              "stance_x         148\n",
              "dob_x           5245\n",
              "fighter_id_x      15\n",
              "fighter_y          0\n",
              "height_y          88\n",
              "reach_y          478\n",
              "stance_y         199\n",
              "dob_y           5235\n",
              "fighter_id_y       0\n",
              "age_x           5245\n",
              "age_y           5235\n",
              "dtype: int64"
            ]
          },
          "execution_count": 88,
          "metadata": {},
          "output_type": "execute_result"
        }
      ],
      "source": [
        "#Looks like the date of births in the ufc_fighter_tott_clean data is mostly blanks. I'll remove the age columns for now for the purposes of \n",
        "# feature analysis, but would be interested to add the back in later\n",
        "\n",
        "\n",
        "new3.isna().sum()"
      ]
    },
    {
      "cell_type": "code",
      "execution_count": 89,
      "metadata": {},
      "outputs": [
        {
          "data": {
            "text/plain": [
              "(4977, 16)"
            ]
          },
          "execution_count": 89,
          "metadata": {},
          "output_type": "execute_result"
        }
      ],
      "source": [
        "#dropping features that won't be important to the model, and dropping null values\n",
        "\n",
        "cleaned_features1 = new3.drop(columns= (['age_x', 'age_y', 'dob_x', 'dob_y', 'date', 'event', 'fight_id', 'fighter1', 'fighter2', 'method', 'fighter_id_x', 'fighter_id_y', 'fighter_x', 'fighter_y']))\n",
        "cleaned_features1.dropna(inplace=True)\n",
        "cleaned_features1.shape"
      ]
    },
    {
      "cell_type": "code",
      "execution_count": 95,
      "metadata": {},
      "outputs": [],
      "source": [
        "#creating dummy variables for all categorical caolumns\n",
        "\n",
        "pd.set_option('display.max_columns', None)\n",
        "cleaned_features1 = pd.get_dummies(cleaned_features1, drop_first = True, dtype = int)"
      ]
    },
    {
      "cell_type": "code",
      "execution_count": 114,
      "metadata": {},
      "outputs": [],
      "source": [
        "#exporting this dataset \n",
        "\n",
        "cleaned_features1.to_csv('/Users/cstone/Documents/School/MGMT 6203/Project/raw/cleaned_features.csv')"
      ]
    },
    {
      "cell_type": "code",
      "execution_count": 110,
      "metadata": {},
      "outputs": [
        {
          "name": "stdout",
          "output_type": "stream",
          "text": [
            "The train score for ls model is 0.3485185921474878\n",
            "The test score for ls model is 0.35234669291738396\n"
          ]
        }
      ],
      "source": [
        "\n",
        "X = cleaned_features1.loc[:, cleaned_features1.columns != 'outcome'].values\n",
        "y = cleaned_features1['outcome'].values\n",
        "\n",
        "\n",
        "X_train, X_test, y_train, y_test = train_test_split(X, y, test_size=0.3, random_state=17)\n",
        "scaler = StandardScaler()\n",
        "X_train = scaler.fit_transform(X_train)\n",
        "X_test = scaler.transform(X_test)\n",
        "\n",
        "lasso = Lasso(alpha = .0015)\n",
        "lasso.fit(X_train,y_train)\n",
        "train_score_ls =lasso.score(X_train,y_train)\n",
        "test_score_ls =lasso.score(X_test,y_test)\n",
        "\n",
        "print(\"The train score for ls model is {}\".format(train_score_ls))\n",
        "print(\"The test score for ls model is {}\".format(test_score_ls))"
      ]
    },
    {
      "cell_type": "code",
      "execution_count": 113,
      "metadata": {},
      "outputs": [
        {
          "name": "stderr",
          "output_type": "stream",
          "text": [
            "/Users/cstone/anaconda3/lib/python3.11/site-packages/sklearn/linear_model/_coordinate_descent.py:628: ConvergenceWarning: Objective did not converge. You might want to increase the number of iterations, check the scale of the features or consider increasing regularisation. Duality gap: 1.721e+02, tolerance: 8.511e-02\n",
            "  model = cd_fast.enet_coordinate_descent(\n"
          ]
        },
        {
          "data": {
            "image/png": "[encoded data removed]",
            "text/plain": [
              "<Figure size 640x480 with 1 Axes>"
            ]
          },
          "metadata": {},
          "output_type": "display_data"
        }
      ],
      "source": [
        "names=cleaned_features1.drop(\"outcome\", axis=1).columns\n",
        "lasso1 = Lasso(alpha=0.00001)\n",
        "lasso1.fit(X_train, y_train)\n",
        "\n",
        "# Using np.abs() to make coefficients positive.  \n",
        "lasso1_coef = np.abs(lasso1.coef_)\n",
        "\n",
        "# plotting the Column Names and Importance of Columns. \n",
        "plt.bar(names, lasso1_coef)\n",
        "plt.xticks(rotation=90)\n",
        "plt.grid()\n",
        "plt.title(\"Feature Selection Based on Lasso\")\n",
        "plt.xlabel(\"Features\")\n",
        "plt.ylabel(\"Importance\")\n",
        "plt.ylim(0, 0.15)\n",
        "plt.show()"
      ]
    },
    {
      "cell_type": "code",
      "execution_count": 112,
      "metadata": {},
      "outputs": [
        {
          "ename": "ValueError",
          "evalue": "Index data must be 1-dimensional",
          "output_type": "error",
          "traceback": [
            "\u001b[0;31m---------------------------------------------------------------------------\u001b[0m",
            "\u001b[0;31mValueError\u001b[0m                                Traceback (most recent call last)",
            "File \u001b[0;32m~/anaconda3/lib/python3.11/site-packages/pandas/core/indexes/base.py:551\u001b[0m, in \u001b[0;36mIndex.__new__\u001b[0;34m(cls, data, dtype, copy, name, tupleize_cols)\u001b[0m\n\u001b[1;32m    550\u001b[0m \u001b[38;5;28;01mtry\u001b[39;00m:\n\u001b[0;32m--> 551\u001b[0m     arr \u001b[38;5;241m=\u001b[39m sanitize_array(data, \u001b[38;5;28;01mNone\u001b[39;00m, dtype\u001b[38;5;241m=\u001b[39mdtype, copy\u001b[38;5;241m=\u001b[39mcopy)\n\u001b[1;32m    552\u001b[0m \u001b[38;5;28;01mexcept\u001b[39;00m \u001b[38;5;167;01mValueError\u001b[39;00m \u001b[38;5;28;01mas\u001b[39;00m err:\n",
            "File \u001b[0;32m~/anaconda3/lib/python3.11/site-packages/pandas/core/construction.py:607\u001b[0m, in \u001b[0;36msanitize_array\u001b[0;34m(data, index, dtype, copy, allow_2d)\u001b[0m\n\u001b[1;32m    605\u001b[0m             subarr \u001b[38;5;241m=\u001b[39m maybe_infer_to_datetimelike(subarr)\n\u001b[0;32m--> 607\u001b[0m subarr \u001b[38;5;241m=\u001b[39m _sanitize_ndim(subarr, data, dtype, index, allow_2d\u001b[38;5;241m=\u001b[39mallow_2d)\n\u001b[1;32m    609\u001b[0m \u001b[38;5;28;01mif\u001b[39;00m \u001b[38;5;28misinstance\u001b[39m(subarr, np\u001b[38;5;241m.\u001b[39mndarray):\n\u001b[1;32m    610\u001b[0m     \u001b[38;5;66;03m# at this point we should have dtype be None or subarr.dtype == dtype\u001b[39;00m\n",
            "File \u001b[0;32m~/anaconda3/lib/python3.11/site-packages/pandas/core/construction.py:666\u001b[0m, in \u001b[0;36m_sanitize_ndim\u001b[0;34m(result, data, dtype, index, allow_2d)\u001b[0m\n\u001b[1;32m    665\u001b[0m         \u001b[38;5;28;01mreturn\u001b[39;00m result\n\u001b[0;32m--> 666\u001b[0m     \u001b[38;5;28;01mraise\u001b[39;00m \u001b[38;5;167;01mValueError\u001b[39;00m(\n\u001b[1;32m    667\u001b[0m         \u001b[38;5;124mf\u001b[39m\u001b[38;5;124m\"\u001b[39m\u001b[38;5;124mData must be 1-dimensional, got ndarray of shape \u001b[39m\u001b[38;5;132;01m{\u001b[39;00mdata\u001b[38;5;241m.\u001b[39mshape\u001b[38;5;132;01m}\u001b[39;00m\u001b[38;5;124m instead\u001b[39m\u001b[38;5;124m\"\u001b[39m\n\u001b[1;32m    668\u001b[0m     )\n\u001b[1;32m    669\u001b[0m \u001b[38;5;28;01mif\u001b[39;00m is_object_dtype(dtype) \u001b[38;5;129;01mand\u001b[39;00m \u001b[38;5;28misinstance\u001b[39m(dtype, ExtensionDtype):\n\u001b[1;32m    670\u001b[0m     \u001b[38;5;66;03m# i.e. PandasDtype(\"O\")\u001b[39;00m\n",
            "\u001b[0;31mValueError\u001b[0m: Data must be 1-dimensional, got ndarray of shape (4977, 28) instead",
            "\nThe above exception was the direct cause of the following exception:\n",
            "\u001b[0;31mValueError\u001b[0m                                Traceback (most recent call last)",
            "Cell \u001b[0;32mIn[112], line 1\u001b[0m\n\u001b[0;32m----> 1\u001b[0m pd\u001b[38;5;241m.\u001b[39mSeries(lasso\u001b[38;5;241m.\u001b[39mcoef_, cleaned_features1\u001b[38;5;241m.\u001b[39mloc[:, cleaned_features1\u001b[38;5;241m.\u001b[39mcolumns \u001b[38;5;241m!=\u001b[39m \u001b[38;5;124m'\u001b[39m\u001b[38;5;124moutcome\u001b[39m\u001b[38;5;124m'\u001b[39m])\u001b[38;5;241m.\u001b[39msort_values(ascending \u001b[38;5;241m=\u001b[39m \u001b[38;5;28;01mTrue\u001b[39;00m)\u001b[38;5;241m.\u001b[39mplot(kind \u001b[38;5;241m=\u001b[39m \u001b[38;5;124m\"\u001b[39m\u001b[38;5;124mbar\u001b[39m\u001b[38;5;124m\"\u001b[39m)\n",
            "File \u001b[0;32m~/anaconda3/lib/python3.11/site-packages/pandas/core/series.py:425\u001b[0m, in \u001b[0;36mSeries.__init__\u001b[0;34m(self, data, index, dtype, name, copy, fastpath)\u001b[0m\n\u001b[1;32m    422\u001b[0m name \u001b[38;5;241m=\u001b[39m ibase\u001b[38;5;241m.\u001b[39mmaybe_extract_name(name, data, \u001b[38;5;28mtype\u001b[39m(\u001b[38;5;28mself\u001b[39m))\n\u001b[1;32m    424\u001b[0m \u001b[38;5;28;01mif\u001b[39;00m index \u001b[38;5;129;01mis\u001b[39;00m \u001b[38;5;129;01mnot\u001b[39;00m \u001b[38;5;28;01mNone\u001b[39;00m:\n\u001b[0;32m--> 425\u001b[0m     index \u001b[38;5;241m=\u001b[39m ensure_index(index)\n\u001b[1;32m    427\u001b[0m \u001b[38;5;28;01mif\u001b[39;00m dtype \u001b[38;5;129;01mis\u001b[39;00m \u001b[38;5;129;01mnot\u001b[39;00m \u001b[38;5;28;01mNone\u001b[39;00m:\n\u001b[1;32m    428\u001b[0m     dtype \u001b[38;5;241m=\u001b[39m \u001b[38;5;28mself\u001b[39m\u001b[38;5;241m.\u001b[39m_validate_dtype(dtype)\n",
            "File \u001b[0;32m~/anaconda3/lib/python3.11/site-packages/pandas/core/indexes/base.py:7128\u001b[0m, in \u001b[0;36mensure_index\u001b[0;34m(index_like, copy)\u001b[0m\n\u001b[1;32m   7126\u001b[0m         \u001b[38;5;28;01mreturn\u001b[39;00m Index(index_like, copy\u001b[38;5;241m=\u001b[39mcopy, tupleize_cols\u001b[38;5;241m=\u001b[39m\u001b[38;5;28;01mFalse\u001b[39;00m)\n\u001b[1;32m   7127\u001b[0m \u001b[38;5;28;01melse\u001b[39;00m:\n\u001b[0;32m-> 7128\u001b[0m     \u001b[38;5;28;01mreturn\u001b[39;00m Index(index_like, copy\u001b[38;5;241m=\u001b[39mcopy)\n",
            "File \u001b[0;32m~/anaconda3/lib/python3.11/site-packages/pandas/core/indexes/base.py:518\u001b[0m, in \u001b[0;36mIndex.__new__\u001b[0;34m(cls, data, dtype, copy, name, tupleize_cols)\u001b[0m\n\u001b[1;32m    516\u001b[0m     \u001b[38;5;28;01mraise\u001b[39;00m \u001b[38;5;28mcls\u001b[39m\u001b[38;5;241m.\u001b[39m_raise_scalar_data_error(data)\n\u001b[1;32m    517\u001b[0m \u001b[38;5;28;01melif\u001b[39;00m \u001b[38;5;28mhasattr\u001b[39m(data, \u001b[38;5;124m\"\u001b[39m\u001b[38;5;124m__array__\u001b[39m\u001b[38;5;124m\"\u001b[39m):\n\u001b[0;32m--> 518\u001b[0m     \u001b[38;5;28;01mreturn\u001b[39;00m Index(np\u001b[38;5;241m.\u001b[39masarray(data), dtype\u001b[38;5;241m=\u001b[39mdtype, copy\u001b[38;5;241m=\u001b[39mcopy, name\u001b[38;5;241m=\u001b[39mname)\n\u001b[1;32m    519\u001b[0m \u001b[38;5;28;01melif\u001b[39;00m \u001b[38;5;129;01mnot\u001b[39;00m is_list_like(data) \u001b[38;5;129;01mand\u001b[39;00m \u001b[38;5;129;01mnot\u001b[39;00m \u001b[38;5;28misinstance\u001b[39m(data, \u001b[38;5;28mmemoryview\u001b[39m):\n\u001b[1;32m    520\u001b[0m     \u001b[38;5;66;03m# 2022-11-16 the memoryview check is only necessary on some CI\u001b[39;00m\n\u001b[1;32m    521\u001b[0m     \u001b[38;5;66;03m#  builds, not clear why\u001b[39;00m\n\u001b[1;32m    522\u001b[0m     \u001b[38;5;28;01mraise\u001b[39;00m \u001b[38;5;28mcls\u001b[39m\u001b[38;5;241m.\u001b[39m_raise_scalar_data_error(data)\n",
            "File \u001b[0;32m~/anaconda3/lib/python3.11/site-packages/pandas/core/indexes/base.py:556\u001b[0m, in \u001b[0;36mIndex.__new__\u001b[0;34m(cls, data, dtype, copy, name, tupleize_cols)\u001b[0m\n\u001b[1;32m    554\u001b[0m         \u001b[38;5;28;01mraise\u001b[39;00m \u001b[38;5;28mcls\u001b[39m\u001b[38;5;241m.\u001b[39m_raise_scalar_data_error(data) \u001b[38;5;28;01mfrom\u001b[39;00m \u001b[38;5;21;01merr\u001b[39;00m\n\u001b[1;32m    555\u001b[0m     \u001b[38;5;28;01mif\u001b[39;00m \u001b[38;5;124m\"\u001b[39m\u001b[38;5;124mData must be 1-dimensional\u001b[39m\u001b[38;5;124m\"\u001b[39m \u001b[38;5;129;01min\u001b[39;00m \u001b[38;5;28mstr\u001b[39m(err):\n\u001b[0;32m--> 556\u001b[0m         \u001b[38;5;28;01mraise\u001b[39;00m \u001b[38;5;167;01mValueError\u001b[39;00m(\u001b[38;5;124m\"\u001b[39m\u001b[38;5;124mIndex data must be 1-dimensional\u001b[39m\u001b[38;5;124m\"\u001b[39m) \u001b[38;5;28;01mfrom\u001b[39;00m \u001b[38;5;21;01merr\u001b[39;00m\n\u001b[1;32m    557\u001b[0m     \u001b[38;5;28;01mraise\u001b[39;00m\n\u001b[1;32m    558\u001b[0m arr \u001b[38;5;241m=\u001b[39m ensure_wrapped_if_datetimelike(arr)\n",
            "\u001b[0;31mValueError\u001b[0m: Index data must be 1-dimensional"
          ]
        }
      ],
      "source": [
        "\n"
      ]
    },
    {
      "cell_type": "code",
      "execution_count": 104,
      "metadata": {},
      "outputs": [
        {
          "name": "stdout",
          "output_type": "stream",
          "text": [
            "0.343345234262158\n",
            "0.3491585642339754\n"
          ]
        },
        {
          "name": "stderr",
          "output_type": "stream",
          "text": [
            "/Users/cstone/anaconda3/lib/python3.11/site-packages/sklearn/linear_model/_coordinate_descent.py:614: ConvergenceWarning: Objective did not converge. You might want to increase the number of iterations. Duality gap: 13.58798919103566, tolerance: 0.06808510943667004\n",
            "  model = cd_fast.enet_coordinate_descent_gram(\n",
            "/Users/cstone/anaconda3/lib/python3.11/site-packages/sklearn/linear_model/_coordinate_descent.py:614: ConvergenceWarning: Objective did not converge. You might want to increase the number of iterations. Duality gap: 0.1837383849821208, tolerance: 0.06830362396842495\n",
            "  model = cd_fast.enet_coordinate_descent_gram(\n"
          ]
        }
      ],
      "source": [
        "from sklearn.linear_model import LassoCV\n",
        "\n",
        "#Lasso Cross validation\n",
        "lasso_cv = LassoCV(alphas = [0.0001, 0.001,0.01, 0.1, 1, 10], random_state=0).fit(X_train, y_train)\n",
        "\n",
        "\n",
        "#score\n",
        "print(lasso_cv.score(X_train, y_train))\n",
        "print(lasso_cv.score(X_test, y_test))"
      ]
    }
  ],
  "metadata": {
    "colab": {
      "provenance": []
    },
    "kernelspec": {
      "display_name": "Python 3",
      "name": "python3"
    },
    "language_info": {
      "codemirror_mode": {
        "name": "ipython",
        "version": 3
      },
      "file_extension": ".py",
      "mimetype": "text/x-python",
      "name": "python",
      "nbconvert_exporter": "python",
      "pygments_lexer": "ipython3",
      "version": "3.11.5"
    }
  },
  "nbformat": 4,
  "nbformat_minor": 0
}
