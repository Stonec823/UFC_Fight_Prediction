{
 "cells": [
  {
   "cell_type": "code",
   "execution_count": 30,
   "metadata": {},
   "outputs": [],
   "source": [
    "import pandas as pd\n",
    "import numpy as np\n",
    "from sklearn.model_selection import train_test_split\n",
    "from sklearn.model_selection import cross_val_score\n",
    "from sklearn.preprocessing import StandardScaler\n",
    "from statsmodels.stats.outliers_influence import variance_inflation_factor \n",
    "from sklearn import svm\n",
    "from sklearn import metrics"
   ]
  },
  {
   "cell_type": "code",
   "execution_count": 36,
   "metadata": {},
   "outputs": [
    {
     "data": {
      "text/plain": [
       "(4990, 30)"
      ]
     },
     "execution_count": 36,
     "metadata": {},
     "output_type": "execute_result"
    }
   ],
   "source": [
    "df = pd.read_csv('/Users/cstone/Documents/School/MGMT 6203/Project/clean/final_features.csv')\n",
    "\n",
    "df.shape"
   ]
  },
  {
   "cell_type": "code",
   "execution_count": 37,
   "metadata": {},
   "outputs": [
    {
     "name": "stderr",
     "output_type": "stream",
     "text": [
      "/Users/cstone/anaconda3/lib/python3.11/site-packages/statsmodels/stats/outliers_influence.py:198: RuntimeWarning: divide by zero encountered in scalar divide\n",
      "  vif = 1. / (1. - r_squared_i)\n"
     ]
    }
   ],
   "source": [
    "#checking for multicolinearity and removing correlated factors\n",
    "\n",
    "from statsmodels.stats.outliers_influence import variance_inflation_factor \n",
    "\n",
    "vif_data = pd.DataFrame() \n",
    "vif_data[\"feature\"] = df.columns\n",
    "vif_data[\"VIF\"] = [variance_inflation_factor(df.values, i) \n",
    "                          for i in range(len(df.columns))] \n",
    "  \n",
    "cols_to_keep = vif_data[(vif_data['VIF'] <= 5) | (vif_data['feature'] == 'W_f2') | (vif_data['feature'] == 'L_f2') ]\n",
    "cols_to_keep = cols_to_keep['feature'].to_list()\n",
    "new_df = df[cols_to_keep]\n"
   ]
  },
  {
   "cell_type": "code",
   "execution_count": 40,
   "metadata": {},
   "outputs": [],
   "source": [
    "#creating response variable\n",
    "\n",
    "x = new_df.drop('outcome', axis=1)\n",
    "y = new_df['outcome']\n"
   ]
  },
  {
   "cell_type": "code",
   "execution_count": 41,
   "metadata": {},
   "outputs": [],
   "source": [
    "#scaling features\n",
    "\n",
    "scale = StandardScaler()\n",
    "scaledX = scale.fit_transform(x)"
   ]
  },
  {
   "cell_type": "code",
   "execution_count": 55,
   "metadata": {},
   "outputs": [
    {
     "name": "stdout",
     "output_type": "stream",
     "text": [
      "0.7915831663326653\n"
     ]
    }
   ],
   "source": [
    "#splitting data 70/30 and running SVM linear classifier\n",
    "\n",
    "X_train, X_test, y_train, y_test = train_test_split(scaledX, y, test_size=0.3, random_state = 123)\n",
    "clf = svm.SVC(kernel='linear')\n",
    "\n",
    "clf.fit(X_train,y_train)\n",
    "y_pred = clf.predict(X_test)\n",
    "print(metrics.accuracy_score(y_test, y_pred))"
   ]
  },
  {
   "cell_type": "markdown",
   "metadata": {},
   "source": [
    "The final prediction accuracy for the SVM classifer on the test data comes out to 79%"
   ]
  }
 ],
 "metadata": {
  "kernelspec": {
   "display_name": "base",
   "language": "python",
   "name": "python3"
  },
  "language_info": {
   "codemirror_mode": {
    "name": "ipython",
    "version": 3
   },
   "file_extension": ".py",
   "mimetype": "text/x-python",
   "name": "python",
   "nbconvert_exporter": "python",
   "pygments_lexer": "ipython3",
   "version": "3.11.5"
  }
 },
 "nbformat": 4,
 "nbformat_minor": 2
}
