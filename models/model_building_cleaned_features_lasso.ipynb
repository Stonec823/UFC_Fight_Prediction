{
 "cells": [
  {
   "cell_type": "code",
   "execution_count": 12,
   "id": "46fa6d4f-c283-4250-afab-a91e4800c468",
   "metadata": {},
   "outputs": [],
   "source": [
    "import pandas as pd\n",
    "import seaborn as sns\n",
    "import matplotlib.pyplot as plt\n",
    "import numpy as np\n",
    "from sklearn.model_selection import train_test_split\n",
    "from sklearn.preprocessing import StandardScaler\n"
   ]
  },
  {
   "cell_type": "code",
   "execution_count": 13,
   "id": "1577c61d-83f5-4d6f-8ac9-4db81191c9ff",
   "metadata": {
    "scrolled": true
   },
   "outputs": [
    {
     "data": {
      "text/plain": [
       "Index(['Unnamed: 0', 'time', 'fights_f1', 'win_proportion_f2', 'height_diff',\n",
       "       'reach_diff', 'outcome'],\n",
       "      dtype='object')"
      ]
     },
     "execution_count": 13,
     "metadata": {},
     "output_type": "execute_result"
    }
   ],
   "source": [
    "df = pd.read_csv('./clean/cleaned_features_Lasso.csv')\n",
    "df.columns"
   ]
  },
  {
   "cell_type": "code",
   "execution_count": 14,
   "id": "e0400752-1080-42d9-9d9c-e7547715a8e2",
   "metadata": {
    "scrolled": true
   },
   "outputs": [
    {
     "data": {
      "text/html": [
       "<div>\n",
       "<style scoped>\n",
       "    .dataframe tbody tr th:only-of-type {\n",
       "        vertical-align: middle;\n",
       "    }\n",
       "\n",
       "    .dataframe tbody tr th {\n",
       "        vertical-align: top;\n",
       "    }\n",
       "\n",
       "    .dataframe thead th {\n",
       "        text-align: right;\n",
       "    }\n",
       "</style>\n",
       "<table border=\"1\" class=\"dataframe\">\n",
       "  <thead>\n",
       "    <tr style=\"text-align: right;\">\n",
       "      <th></th>\n",
       "      <th>Unnamed: 0</th>\n",
       "      <th>time</th>\n",
       "      <th>fights_f1</th>\n",
       "      <th>win_proportion_f2</th>\n",
       "      <th>height_diff</th>\n",
       "      <th>reach_diff</th>\n",
       "      <th>outcome</th>\n",
       "    </tr>\n",
       "  </thead>\n",
       "  <tbody>\n",
       "    <tr>\n",
       "      <th>0</th>\n",
       "      <td>0</td>\n",
       "      <td>300</td>\n",
       "      <td>5.0</td>\n",
       "      <td>0.4</td>\n",
       "      <td>-1.0</td>\n",
       "      <td>1.0</td>\n",
       "      <td>0.0</td>\n",
       "    </tr>\n",
       "    <tr>\n",
       "      <th>1</th>\n",
       "      <td>1</td>\n",
       "      <td>300</td>\n",
       "      <td>6.0</td>\n",
       "      <td>0.4</td>\n",
       "      <td>-2.0</td>\n",
       "      <td>1.0</td>\n",
       "      <td>1.0</td>\n",
       "    </tr>\n",
       "    <tr>\n",
       "      <th>2</th>\n",
       "      <td>2</td>\n",
       "      <td>292</td>\n",
       "      <td>5.0</td>\n",
       "      <td>0.4</td>\n",
       "      <td>-1.0</td>\n",
       "      <td>-1.0</td>\n",
       "      <td>0.0</td>\n",
       "    </tr>\n",
       "    <tr>\n",
       "      <th>3</th>\n",
       "      <td>3</td>\n",
       "      <td>300</td>\n",
       "      <td>7.0</td>\n",
       "      <td>0.4</td>\n",
       "      <td>-3.0</td>\n",
       "      <td>2.0</td>\n",
       "      <td>1.0</td>\n",
       "    </tr>\n",
       "    <tr>\n",
       "      <th>4</th>\n",
       "      <td>4</td>\n",
       "      <td>300</td>\n",
       "      <td>1.0</td>\n",
       "      <td>0.4</td>\n",
       "      <td>-2.0</td>\n",
       "      <td>0.0</td>\n",
       "      <td>0.0</td>\n",
       "    </tr>\n",
       "  </tbody>\n",
       "</table>\n",
       "</div>"
      ],
      "text/plain": [
       "   Unnamed: 0  time  fights_f1  win_proportion_f2  height_diff  reach_diff  \\\n",
       "0           0   300        5.0                0.4         -1.0         1.0   \n",
       "1           1   300        6.0                0.4         -2.0         1.0   \n",
       "2           2   292        5.0                0.4         -1.0        -1.0   \n",
       "3           3   300        7.0                0.4         -3.0         2.0   \n",
       "4           4   300        1.0                0.4         -2.0         0.0   \n",
       "\n",
       "   outcome  \n",
       "0      0.0  \n",
       "1      1.0  \n",
       "2      0.0  \n",
       "3      1.0  \n",
       "4      0.0  "
      ]
     },
     "execution_count": 14,
     "metadata": {},
     "output_type": "execute_result"
    }
   ],
   "source": [
    "df.head()"
   ]
  },
  {
   "cell_type": "markdown",
   "id": "5c4b5b48-c092-4d81-8443-acdc2505ff84",
   "metadata": {},
   "source": []
  },
  {
   "cell_type": "code",
   "execution_count": 15,
   "id": "b9b3b641-76c9-4515-b8fd-7cb18af4cdcf",
   "metadata": {},
   "outputs": [],
   "source": [
    "#We will not know the time at the time of prediction, so dropping it for now\n",
    "\n",
    "df.drop(['Unnamed: 0','time'], axis=1, inplace=True)"
   ]
  },
  {
   "cell_type": "code",
   "execution_count": null,
   "id": "cf31bcfa-50d8-4fb5-9ff9-78f261d892fa",
   "metadata": {},
   "outputs": [],
   "source": []
  },
  {
   "cell_type": "code",
   "execution_count": 16,
   "id": "06cd8bfb-6511-41dd-8778-3d4b8e4eb782",
   "metadata": {},
   "outputs": [],
   "source": [
    "#Creates y and X variables\n",
    "y= df['outcome'] #Outcome = 1 means figher 1 won, Outcome = 2 means fighter 2 won\n",
    "X = df.loc[:, df.columns != 'outcome']\n",
    "\n",
    "X_train_orig, X_test_orig, y_train, y_test = train_test_split(X, y, test_size=0.3, random_state=17)\n",
    "scaler = StandardScaler()\n",
    "X_train = scaler.fit_transform(X_train_orig)\n",
    "X_test = scaler.transform(X_test_orig)"
   ]
  },
  {
   "cell_type": "code",
   "execution_count": 17,
   "id": "11de05b1-f8ea-4ce1-9454-297f14a6acb5",
   "metadata": {},
   "outputs": [
    {
     "data": {
      "image/png": "[encoded data removed]",
      "text/plain": [
       "<Figure size 800x600 with 2 Axes>"
      ]
     },
     "metadata": {},
     "output_type": "display_data"
    }
   ],
   "source": [
    "# Compute the correlation matrix\n",
    "corr_matrix = X.corr()\n",
    "\n",
    "# Generate a heatmap of the correlation matrix\n",
    "plt.figure(figsize=(8, 6))\n",
    "sns.heatmap(corr_matrix, annot=True, cmap='coolwarm', fmt=\".2f\", square=True)\n",
    "plt.title('Multicollinearity Matrix')\n",
    "plt.show()"
   ]
  },
  {
   "cell_type": "code",
   "execution_count": 18,
   "id": "a250c89c-38c0-4d00-b360-47d48c394f47",
   "metadata": {},
   "outputs": [
    {
     "data": {
      "text/html": [
       "<div>\n",
       "<style scoped>\n",
       "    .dataframe tbody tr th:only-of-type {\n",
       "        vertical-align: middle;\n",
       "    }\n",
       "\n",
       "    .dataframe tbody tr th {\n",
       "        vertical-align: top;\n",
       "    }\n",
       "\n",
       "    .dataframe thead th {\n",
       "        text-align: right;\n",
       "    }\n",
       "</style>\n",
       "<table border=\"1\" class=\"dataframe\">\n",
       "  <thead>\n",
       "    <tr style=\"text-align: right;\">\n",
       "      <th></th>\n",
       "      <th>fights_f1</th>\n",
       "      <th>win_proportion_f2</th>\n",
       "      <th>height_diff</th>\n",
       "      <th>reach_diff</th>\n",
       "    </tr>\n",
       "  </thead>\n",
       "  <tbody>\n",
       "    <tr>\n",
       "      <th>fights_f1</th>\n",
       "      <td>1.000000</td>\n",
       "      <td>-0.042247</td>\n",
       "      <td>0.001321</td>\n",
       "      <td>0.025157</td>\n",
       "    </tr>\n",
       "    <tr>\n",
       "      <th>win_proportion_f2</th>\n",
       "      <td>-0.042247</td>\n",
       "      <td>1.000000</td>\n",
       "      <td>0.022820</td>\n",
       "      <td>0.028486</td>\n",
       "    </tr>\n",
       "    <tr>\n",
       "      <th>height_diff</th>\n",
       "      <td>0.001321</td>\n",
       "      <td>0.022820</td>\n",
       "      <td>1.000000</td>\n",
       "      <td>0.637836</td>\n",
       "    </tr>\n",
       "    <tr>\n",
       "      <th>reach_diff</th>\n",
       "      <td>0.025157</td>\n",
       "      <td>0.028486</td>\n",
       "      <td>0.637836</td>\n",
       "      <td>1.000000</td>\n",
       "    </tr>\n",
       "  </tbody>\n",
       "</table>\n",
       "</div>"
      ],
      "text/plain": [
       "                   fights_f1  win_proportion_f2  height_diff  reach_diff\n",
       "fights_f1           1.000000          -0.042247     0.001321    0.025157\n",
       "win_proportion_f2  -0.042247           1.000000     0.022820    0.028486\n",
       "height_diff         0.001321           0.022820     1.000000    0.637836\n",
       "reach_diff          0.025157           0.028486     0.637836    1.000000"
      ]
     },
     "execution_count": 18,
     "metadata": {},
     "output_type": "execute_result"
    }
   ],
   "source": [
    "corr_matrix"
   ]
  },
  {
   "cell_type": "code",
   "execution_count": 19,
   "id": "1567bf04-a448-49ff-8719-bb03d3fe9f90",
   "metadata": {},
   "outputs": [
    {
     "name": "stdout",
     "output_type": "stream",
     "text": [
      "Optimization terminated successfully.\n",
      "         Current function value: 0.615967\n",
      "         Iterations 5\n",
      "                           Logit Regression Results                           \n",
      "==============================================================================\n",
      "Dep. Variable:                outcome   No. Observations:                 3483\n",
      "Model:                          Logit   Df Residuals:                     3479\n",
      "Method:                           MLE   Df Model:                            3\n",
      "Date:                Sat, 20 Apr 2024   Pseudo R-squ.:                 0.09660\n",
      "Time:                        05:04:25   Log-Likelihood:                -2145.4\n",
      "converged:                       True   LL-Null:                       -2374.8\n",
      "Covariance Type:            nonrobust   LLR p-value:                 4.023e-99\n",
      "=====================================================================================\n",
      "                        coef    std err          z      P>|z|      [0.025      0.975]\n",
      "-------------------------------------------------------------------------------------\n",
      "fights_f1            -0.0473      0.006     -7.587      0.000      -0.060      -0.035\n",
      "win_proportion_f2     1.7586      0.093     18.824      0.000       1.575       1.942\n",
      "height_diff          -0.0007      0.019     -0.036      0.971      -0.038       0.036\n",
      "reach_diff            0.0308      0.015      2.098      0.036       0.002       0.060\n",
      "=====================================================================================\n",
      "Significant features:\n",
      "Index(['fights_f1', 'win_proportion_f2', 'reach_diff'], dtype='object')\n"
     ]
    }
   ],
   "source": [
    "import statsmodels.api as sm\n",
    "\n",
    "#Log regression similar to glm in R\n",
    "# Add a constant term for the intercept\n",
    "b = sm.add_constant(X_train_orig)\n",
    "log_reg = sm.Logit(y_train, X_train_orig).fit(maxiter=2000) \n",
    "\n",
    "# printing the summary table \n",
    "print(log_reg.summary()) \n",
    "p_values=log_reg.pvalues\n",
    "# Select significant features with p-values less than 0.05\n",
    "significant_features = X_train_orig.columns[p_values < 0.05]\n",
    "\n",
    "print(\"Significant features:\")\n",
    "print(significant_features)"
   ]
  },
  {
   "cell_type": "code",
   "execution_count": 20,
   "id": "bb4e8cff-2be3-4637-9b75-6c9dad6a2b14",
   "metadata": {},
   "outputs": [
    {
     "name": "stdout",
     "output_type": "stream",
     "text": [
      "Searching for best Logistic Regression...\n",
      "Fitting 5 folds for each of 1 candidates, totalling 5 fits\n",
      "Best parameters for Logistic Regression: {}\n",
      "Best accuracy for Logistic Regression: 0.7329820742426492\n",
      "\n",
      "Searching for best SVM...\n",
      "Fitting 5 folds for each of 10 candidates, totalling 50 fits\n"
     ]
    },
    {
     "name": "stderr",
     "output_type": "stream",
     "text": [
      "C:\\Users\\ddron\\anaconda3\\Lib\\site-packages\\sklearn\\model_selection\\_search.py:305: UserWarning: The total space of parameters 1 is smaller than n_iter=10. Running 1 iterations. For exhaustive searches, use GridSearchCV.\n",
      "  warnings.warn(\n"
     ]
    },
    {
     "name": "stdout",
     "output_type": "stream",
     "text": [
      "Best parameters for SVM: {'kernel': 'linear', 'C': 0.1}\n",
      "Best accuracy for SVM: 0.7329824865185771\n",
      "\n",
      "Searching for best Random Forest Classifier...\n",
      "Fitting 5 folds for each of 10 candidates, totalling 50 fits\n"
     ]
    },
    {
     "name": "stderr",
     "output_type": "stream",
     "text": [
      "C:\\Users\\ddron\\anaconda3\\Lib\\site-packages\\sklearn\\ensemble\\_forest.py:424: FutureWarning: `max_features='auto'` has been deprecated in 1.1 and will be removed in 1.3. To keep the past behaviour, explicitly set `max_features='sqrt'` or remove this parameter as it is also the default value for RandomForestClassifiers and ExtraTreesClassifiers.\n",
      "  warn(\n"
     ]
    },
    {
     "name": "stdout",
     "output_type": "stream",
     "text": [
      "Best parameters for Random Forest Classifier: {'bootstrap': False, 'max_depth': 5, 'max_features': 'auto', 'min_samples_leaf': 1, 'min_samples_split': 13, 'n_estimators': 413}\n",
      "Best accuracy for Random Forest Classifier: 0.73757647718465\n",
      "\n",
      "Searching for best MLP Classifier...\n",
      "Fitting 5 folds for each of 10 candidates, totalling 50 fits\n",
      "Best parameters for MLP Classifier: {'learning_rate': 'invscaling', 'hidden_layer_sizes': (50, 50), 'alpha': 0.0001, 'activation': 'tanh'}\n",
      "Best accuracy for MLP Classifier: 0.7470555253219876\n",
      "\n"
     ]
    },
    {
     "name": "stderr",
     "output_type": "stream",
     "text": [
      "C:\\Users\\ddron\\anaconda3\\Lib\\site-packages\\sklearn\\ensemble\\_forest.py:424: FutureWarning: `max_features='auto'` has been deprecated in 1.1 and will be removed in 1.3. To keep the past behaviour, explicitly set `max_features='sqrt'` or remove this parameter as it is also the default value for RandomForestClassifiers and ExtraTreesClassifiers.\n",
      "  warn(\n",
      "C:\\Users\\ddron\\anaconda3\\Lib\\site-packages\\sklearn\\neural_network\\_multilayer_perceptron.py:686: ConvergenceWarning: Stochastic Optimizer: Maximum iterations (200) reached and the optimization hasn't converged yet.\n",
      "  warnings.warn(\n"
     ]
    }
   ],
   "source": [
    "from sklearn.model_selection import RandomizedSearchCV\n",
    "from sklearn.linear_model import LogisticRegression\n",
    "from sklearn.svm import SVC\n",
    "from sklearn.ensemble import RandomForestClassifier\n",
    "from sklearn.neural_network import MLPClassifier\n",
    "from sklearn.ensemble import VotingClassifier\n",
    "from scipy.stats import randint\n",
    "\n",
    "def find_best_model(X_train, y_train, models):\n",
    "    best_models = {}\n",
    "    \n",
    "    for model_name, model in models.items():\n",
    "        print(f\"Searching for best {model_name}...\")\n",
    "        \n",
    "        # Define parameter grid for each model\n",
    "        param_dist = {}\n",
    "        if model_name == 'Logistic Regression':\n",
    "            param_dist = {\n",
    "            }\n",
    "        elif model_name == 'SVM':\n",
    "            param_dist = {\n",
    "                'C': np.logspace(-3, 3, 7),\n",
    "                'kernel': ['linear', 'poly', 'rbf', 'sigmoid']\n",
    "            }\n",
    "        elif model_name == 'Random Forest Classifier':\n",
    "            param_dist = {\n",
    "                \"n_estimators\": randint(100, 1000),\n",
    "                \"max_features\": ['auto', 'sqrt', 'log2'],\n",
    "                \"max_depth\": [None] + list(range(5, 30)),\n",
    "                \"min_samples_split\": randint(2, 20),\n",
    "                \"min_samples_leaf\": randint(1, 20),\n",
    "                \"bootstrap\": [True, False]\n",
    "            }\n",
    "        elif model_name == 'MLP Classifier':\n",
    "            param_dist = {\n",
    "                'hidden_layer_sizes': [(100,), (50, 50), (100, 50, 100)],\n",
    "                'activation': ['relu', 'tanh', 'logistic'],\n",
    "                'alpha': [0.0001, 0.001, 0.01],\n",
    "                'learning_rate': ['constant', 'invscaling', 'adaptive']\n",
    "            }\n",
    "        \n",
    "        # Create RandomizedSearchCV object\n",
    "        random_search = RandomizedSearchCV(estimator=model, param_distributions=param_dist,\n",
    "                                           n_iter=10, cv=5, scoring='accuracy',\n",
    "                                           verbose=1, random_state=42, n_jobs=-1)\n",
    "        \n",
    "        # Fit RandomizedSearchCV object to the data\n",
    "        random_search.fit(X_train, y_train)\n",
    "        \n",
    "        # Print best parameters and score\n",
    "        print(f\"Best parameters for {model_name}: {random_search.best_params_}\")\n",
    "        print(f\"Best accuracy for {model_name}: {random_search.best_score_}\\n\")\n",
    "        \n",
    "        # Save best model\n",
    "        best_models[model_name] = random_search.best_estimator_\n",
    "\n",
    "    # Add a hard voting classifier\n",
    "    voting_classifier = VotingClassifier(\n",
    "    estimators=[(name, model) for name, model in best_models.items()],\n",
    "    voting='hard')\n",
    "    voting_classifier.fit(X_train, y_train)\n",
    "    best_models['Voting Classifier (Hard)'] = voting_classifier\n",
    "    return best_models\n",
    "\n",
    "# Example usage\n",
    "best_models = find_best_model(X_train, y_train, {\n",
    "    'Logistic Regression': LogisticRegression(),\n",
    "    'SVM': SVC(),\n",
    "    'Random Forest Classifier': RandomForestClassifier(),\n",
    "    'MLP Classifier': MLPClassifier()\n",
    "})\n"
   ]
  },
  {
   "cell_type": "code",
   "execution_count": 21,
   "id": "8bc75953-cc53-4b85-b74b-f1b82b7a69da",
   "metadata": {},
   "outputs": [
    {
     "name": "stdout",
     "output_type": "stream",
     "text": [
      "Evaluation results for Logistic Regression:\n",
      "Accuracy: 0.7235609103078983\n",
      "sensitivity: 0.7695961995249406\n",
      "specificity: 0.6641104294478528\n",
      "confusion: [[433 219]\n",
      " [194 648]]\n",
      "Evaluation results for SVM:\n",
      "Accuracy: 0.7255689424364123\n",
      "sensitivity: 0.7743467933491687\n",
      "specificity: 0.6625766871165644\n",
      "confusion: [[432 220]\n",
      " [190 652]]\n",
      "Evaluation results for Random Forest Classifier:\n",
      "Accuracy: 0.7322623828647925\n",
      "sensitivity: 0.7553444180522565\n",
      "specificity: 0.7024539877300614\n",
      "confusion: [[458 194]\n",
      " [206 636]]\n",
      "Evaluation results for MLP Classifier:\n",
      "Accuracy: 0.7436412315930389\n",
      "sensitivity: 0.7992874109263658\n",
      "specificity: 0.6717791411042945\n",
      "confusion: [[438 214]\n",
      " [169 673]]\n",
      "Evaluation results for Voting Classifier (Hard):\n",
      "Accuracy: 0.7295850066934404\n",
      "sensitivity: 0.7410926365795725\n",
      "specificity: 0.7147239263803681\n",
      "confusion: [[466 186]\n",
      " [218 624]]\n"
     ]
    }
   ],
   "source": [
    "from sklearn.metrics import accuracy_score, classification_report\n",
    "from sklearn.metrics import confusion_matrix\n",
    "def sensitivity_specificity(y_true, y_pred):\n",
    "    \"\"\"\n",
    "    Calculate sensitivity and specificity.\n",
    "    \n",
    "    Parameters:\n",
    "        y_true (array-like): True labels.\n",
    "        y_pred (array-like): Predicted labels.\n",
    "        \n",
    "    Returns:\n",
    "        sensitivity (float): Sensitivity (true positive rate).\n",
    "        specificity (float): Specificity (true negative rate).\n",
    "    \"\"\"\n",
    "    tn, fp, fn, tp = confusion_matrix(y_true, y_pred).ravel()\n",
    "    sensitivity = tp / (tp + fn)\n",
    "    specificity = tn / (tn + fp)\n",
    "    return sensitivity, specificity\n",
    "    \n",
    "def evaluate_best_models(X_test, y_test, best_models):\n",
    "    evaluation_results = {}\n",
    "    \n",
    "    for model_name, model in best_models.items():\n",
    "        y_pred = model.predict(X_test)\n",
    "        accuracy = accuracy_score(y_test, y_pred)\n",
    "        classification_rep = classification_report(y_test, y_pred)\n",
    "        sensitivity, specificity=sensitivity_specificity(y_test, y_pred)\n",
    "        cm=confusion_matrix(y_test, y_pred)\n",
    "        evaluation_results[model_name] = {\n",
    "            'accuracy': accuracy,\n",
    "            'sensitivity': sensitivity,\n",
    "            'specificity': specificity,\n",
    "            'confusion_matrix':cm\n",
    "        }\n",
    "        \n",
    "        print(f\"Evaluation results for {model_name}:\")\n",
    "        print(f\"Accuracy: {accuracy}\")\n",
    "        print(f\"sensitivity: {sensitivity}\")\n",
    "        print(f\"specificity: {specificity}\")    \n",
    "        print(f\"confusion: {cm}\")   \n",
    "    return evaluation_results\n",
    "\n",
    "# Example usage\n",
    "evaluation_results = evaluate_best_models(X_test, y_test, best_models)\n"
   ]
  },
  {
   "cell_type": "code",
   "execution_count": 22,
   "id": "13ec4dd1-2552-455b-b048-d2c0e640e4a1",
   "metadata": {},
   "outputs": [
    {
     "data": {
      "image/png": "[encoded data removed]",
      "text/plain": [
       "<Figure size 1200x600 with 2 Axes>"
      ]
     },
     "metadata": {},
     "output_type": "display_data"
    }
   ],
   "source": [
    "feature_names=X.columns\n",
    "# Get feature importance for Logistic Regression\n",
    "lasso_coefficients = best_models['Logistic Regression'].coef_[0]\n",
    "lasso_feature_names = feature_names\n",
    "\n",
    "# Filter coefficients and feature names where coefficient is greater than zero\n",
    "selected_coefficients = [coef for coef, name in zip(lasso_coefficients, lasso_feature_names) if coef > 0]\n",
    "selected_feature_names = [name for coef, name in zip(lasso_coefficients, lasso_feature_names) if coef > 0]\n",
    "\n",
    "# Sort the coefficients and feature names based on coefficients\n",
    "sorted_indices = np.argsort(selected_coefficients)[::-1]\n",
    "sorted_coefficients = [selected_coefficients[i] for i in sorted_indices]\n",
    "sorted_feature_names = [selected_feature_names[i] for i in sorted_indices]\n",
    "\n",
    "# Get feature importance for Random Forest\n",
    "rf_importance = best_models['Random Forest Classifier'].feature_importances_\n",
    "sorted_indices_rf = np.argsort(rf_importance)[::-1]\n",
    "\n",
    "#\n",
    "\n",
    "# Plot the coefficients\n",
    "# Plot feature importance\n",
    "plt.figure(figsize=(12, 6))\n",
    "\n",
    "plt.subplot(1, 2, 1)\n",
    "plt.barh(sorted_feature_names, sorted_coefficients, color='skyblue')\n",
    "plt.xlabel('Coefficient Value')\n",
    "plt.title('Coefficients of Lasso Model (Sorted)')\n",
    "\n",
    "plt.subplot(1, 2, 2)\n",
    "plt.barh([feature_names[i] for i in sorted_indices_rf], rf_importance[sorted_indices_rf], color='salmon')\n",
    "plt.xlabel('Importance')\n",
    "plt.title('Random Forest Feature Importance')\n",
    "\n",
    "plt.tight_layout()\n",
    "plt.show()"
   ]
  }
 ],
 "metadata": {
  "kernelspec": {
   "display_name": "Python 3 (ipykernel)",
   "language": "python",
   "name": "python3"
  },
  "language_info": {
   "codemirror_mode": {
    "name": "ipython",
    "version": 3
   },
   "file_extension": ".py",
   "mimetype": "text/x-python",
   "name": "python",
   "nbconvert_exporter": "python",
   "pygments_lexer": "ipython3",
   "version": "3.11.7"
  }
 },
 "nbformat": 4,
 "nbformat_minor": 5
}
